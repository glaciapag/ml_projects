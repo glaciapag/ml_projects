{
 "cells": [
  {
   "cell_type": "code",
   "execution_count": 1,
   "id": "30d545e2",
   "metadata": {},
   "outputs": [],
   "source": [
    "import tensorflow as tf\n",
    "import numpy as np\n",
    "import pandas as pd\n",
    "import matplotlib.pyplot as plt"
   ]
  },
  {
   "cell_type": "markdown",
   "id": "f71e5187",
   "metadata": {},
   "source": [
    "# Loading the dataset"
   ]
  },
  {
   "cell_type": "code",
   "execution_count": 2,
   "id": "0b3d4088",
   "metadata": {},
   "outputs": [],
   "source": [
    "from tensorflow.keras.datasets import fashion_mnist"
   ]
  },
  {
   "cell_type": "code",
   "execution_count": 3,
   "id": "1103b1b0",
   "metadata": {},
   "outputs": [],
   "source": [
    "(train_data, train_labels), (test_data, test_labels) = fashion_mnist.load_data()"
   ]
  },
  {
   "cell_type": "markdown",
   "id": "40f0a7ea",
   "metadata": {},
   "source": [
    "# Exploring the Data"
   ]
  },
  {
   "cell_type": "code",
   "execution_count": 4,
   "id": "f30067ee",
   "metadata": {},
   "outputs": [],
   "source": [
    "import matplotlib.pyplot as plt\n",
    "from numpy import random"
   ]
  },
  {
   "cell_type": "code",
   "execution_count": 5,
   "id": "78571659",
   "metadata": {},
   "outputs": [],
   "source": [
    "class_names = [\n",
    "    \"T-shirt/top\",\n",
    "    \"Trouser\",\n",
    "    \"Pullover\",\n",
    "    \"Dress\",\n",
    "    \"Coat\",\n",
    "    \"Sandal\",\n",
    "    \"Shirt\",\n",
    "    \"Sneaker\",\n",
    "    \"Bag\",\n",
    "    \"Ankle boot\" \n",
    "]"
   ]
  },
  {
   "cell_type": "code",
   "execution_count": 6,
   "id": "bf9f74d5",
   "metadata": {},
   "outputs": [
    {
     "data": {
      "text/plain": [
       "60000"
      ]
     },
     "execution_count": 6,
     "metadata": {},
     "output_type": "execute_result"
    }
   ],
   "source": [
    "len(train_data)"
   ]
  },
  {
   "cell_type": "code",
   "execution_count": 7,
   "id": "f8edf737",
   "metadata": {},
   "outputs": [
    {
     "data": {
      "image/png": "[encoded data removed]",
      "text/plain": [
       "<Figure size 720x504 with 4 Axes>"
      ]
     },
     "metadata": {
      "needs_background": "light"
     },
     "output_type": "display_data"
    }
   ],
   "source": [
    "def show_image():\n",
    "    \n",
    "    plt.figure(figsize=(10, 7))\n",
    "    \n",
    "    for i in range(4):\n",
    "        index = random.randint(len(train_data))\n",
    "        plt.subplot(2, 2, i+1)\n",
    "        plt.imshow(train_data[index], cmap=plt.cm.binary)\n",
    "        plt.title(f\"{class_names[train_labels[index]]}\")\n",
    "        plt.axis(\"off\")\n",
    "        \n",
    "    plt.show()\n",
    "    \n",
    "    \n",
    "show_image()"
   ]
  },
  {
   "cell_type": "code",
   "execution_count": 8,
   "id": "e315b83f",
   "metadata": {},
   "outputs": [
    {
     "name": "stdout",
     "output_type": "stream",
     "text": [
      "Training data shape (28, 28)\n",
      "Training label shape ()\n"
     ]
    }
   ],
   "source": [
    "print(f\"Training data shape {train_data[0].shape}\")\n",
    "print(f\"Training label shape {train_labels[0].shape}\")"
   ]
  },
  {
   "cell_type": "markdown",
   "id": "ec31b3f1",
   "metadata": {},
   "source": [
    "# Building and Compiling the Neural Network Model"
   ]
  },
  {
   "cell_type": "code",
   "execution_count": 9,
   "id": "bbf910e2",
   "metadata": {},
   "outputs": [],
   "source": [
    "import os\n",
    "os.environ['TF_CPP_MIN_LOG_LEVEL'] = '2'"
   ]
  },
  {
   "cell_type": "code",
   "execution_count": 10,
   "id": "08165bc6",
   "metadata": {},
   "outputs": [],
   "source": [
    "tf.random.set_seed(42)\n",
    "\n",
    "model = tf.keras.Sequential([\n",
    "    \n",
    "    #Flattening the data\n",
    "    tf.keras.layers.Flatten(input_shape=(28, 28)),\n",
    "    \n",
    "    #hidden layers\n",
    "    tf.keras.layers.Dense(4, activation=\"relu\"),\n",
    "    tf.keras.layers.Dense(4, activation=\"relu\"),\n",
    "    \n",
    "    #output layer, 10 neurons for each class\n",
    "    #activation used is softmax for multiclass - sigmoid for binary\n",
    "    tf.keras.layers.Dense(10, activation=\"softmax\")\n",
    "])\n",
    "\n",
    "\n",
    "model.compile(\n",
    "    loss=tf.keras.losses.SparseCategoricalCrossentropy(),\n",
    "    optimizer=tf.keras.optimizers.Adam(),\n",
    "    metrics=[\"accuracy\"],\n",
    ")"
   ]
  },
  {
   "cell_type": "markdown",
   "id": "a121de3e",
   "metadata": {},
   "source": [
    "# Fitting the Model using Non-normalized Training Set"
   ]
  },
  {
   "cell_type": "code",
   "execution_count": 11,
   "id": "dfb4d34e",
   "metadata": {},
   "outputs": [
    {
     "name": "stdout",
     "output_type": "stream",
     "text": [
      "Epoch 1/20\n",
      "1875/1875 [==============================] - 2s 826us/step - loss: 2.1568 - accuracy: 0.1639 - val_loss: 1.7870 - val_accuracy: 0.2136\n",
      "Epoch 2/20\n",
      "1875/1875 [==============================] - 1s 699us/step - loss: 1.6997 - accuracy: 0.2536 - val_loss: 1.6468 - val_accuracy: 0.2816\n",
      "Epoch 3/20\n",
      "1875/1875 [==============================] - 1s 700us/step - loss: 1.6316 - accuracy: 0.2802 - val_loss: 1.6084 - val_accuracy: 0.2831\n",
      "Epoch 4/20\n",
      "1875/1875 [==============================] - 1s 704us/step - loss: 1.6027 - accuracy: 0.2844 - val_loss: 1.6116 - val_accuracy: 0.2896\n",
      "Epoch 5/20\n",
      "1875/1875 [==============================] - 1s 709us/step - loss: 1.6009 - accuracy: 0.2864 - val_loss: 1.5934 - val_accuracy: 0.2926\n",
      "Epoch 6/20\n",
      "1875/1875 [==============================] - 1s 712us/step - loss: 1.5897 - accuracy: 0.2952 - val_loss: 1.5774 - val_accuracy: 0.2836\n",
      "Epoch 7/20\n",
      "1875/1875 [==============================] - 1s 719us/step - loss: 1.5781 - accuracy: 0.3060 - val_loss: 1.5727 - val_accuracy: 0.3101\n",
      "Epoch 8/20\n",
      "1875/1875 [==============================] - 1s 722us/step - loss: 1.5694 - accuracy: 0.3147 - val_loss: 1.5849 - val_accuracy: 0.3176\n",
      "Epoch 9/20\n",
      "1875/1875 [==============================] - 2s 913us/step - loss: 1.5535 - accuracy: 0.3342 - val_loss: 1.5501 - val_accuracy: 0.3357\n",
      "Epoch 10/20\n",
      "1875/1875 [==============================] - 2s 832us/step - loss: 1.5202 - accuracy: 0.3507 - val_loss: 1.4938 - val_accuracy: 0.3608\n",
      "Epoch 11/20\n",
      "1875/1875 [==============================] - 2s 824us/step - loss: 1.5130 - accuracy: 0.3557 - val_loss: 1.4972 - val_accuracy: 0.3620\n",
      "Epoch 12/20\n",
      "1875/1875 [==============================] - 2s 838us/step - loss: 1.4592 - accuracy: 0.3875 - val_loss: 1.3872 - val_accuracy: 0.4315\n",
      "Epoch 13/20\n",
      "1875/1875 [==============================] - 2s 873us/step - loss: 1.3071 - accuracy: 0.4454 - val_loss: 1.3017 - val_accuracy: 0.4440\n",
      "Epoch 14/20\n",
      "1875/1875 [==============================] - 2s 836us/step - loss: 1.2817 - accuracy: 0.4526 - val_loss: 1.2638 - val_accuracy: 0.4589\n",
      "Epoch 15/20\n",
      "1875/1875 [==============================] - 1s 738us/step - loss: 1.2326 - accuracy: 0.4780 - val_loss: 1.1617 - val_accuracy: 0.5279\n",
      "Epoch 16/20\n",
      "1875/1875 [==============================] - 2s 801us/step - loss: 1.1053 - accuracy: 0.5297 - val_loss: 1.0780 - val_accuracy: 0.5440\n",
      "Epoch 17/20\n",
      "1875/1875 [==============================] - 1s 748us/step - loss: 1.0586 - accuracy: 0.5524 - val_loss: 1.0424 - val_accuracy: 0.5896\n",
      "Epoch 18/20\n",
      "1875/1875 [==============================] - 2s 913us/step - loss: 1.0383 - accuracy: 0.5736 - val_loss: 1.0177 - val_accuracy: 0.5938\n",
      "Epoch 19/20\n",
      "1875/1875 [==============================] - 1s 749us/step - loss: 1.0101 - accuracy: 0.5846 - val_loss: 1.0673 - val_accuracy: 0.5346\n",
      "Epoch 20/20\n",
      "1875/1875 [==============================] - 2s 828us/step - loss: 0.9923 - accuracy: 0.5946 - val_loss: 1.0281 - val_accuracy: 0.5891\n"
     ]
    }
   ],
   "source": [
    "non_normalized = model.fit(\n",
    "    train_data,\n",
    "    train_labels,\n",
    "    epochs=20,\n",
    "    validation_data=((test_data, test_labels))\n",
    ")"
   ]
  },
  {
   "cell_type": "code",
   "execution_count": 12,
   "id": "5febdcd5",
   "metadata": {},
   "outputs": [],
   "source": [
    "non_normalized_probs = model.predict(test_data)"
   ]
  },
  {
   "cell_type": "code",
   "execution_count": 13,
   "id": "4ff948d4",
   "metadata": {},
   "outputs": [
    {
     "data": {
      "text/plain": [
       "array([1.2907946e-11, 1.4681934e-37, 0.0000000e+00, 7.6357039e-32,\n",
       "       2.0688498e-15, 4.6759173e-02, 1.5455078e-13, 2.8891256e-01,\n",
       "       3.1620709e-04, 6.6401201e-01], dtype=float32)"
      ]
     },
     "execution_count": 13,
     "metadata": {},
     "output_type": "execute_result"
    }
   ],
   "source": [
    "non_normalized_probs[0]"
   ]
  },
  {
   "cell_type": "code",
   "execution_count": 14,
   "id": "a16e00b4",
   "metadata": {
    "scrolled": true
   },
   "outputs": [
    {
     "name": "stdout",
     "output_type": "stream",
     "text": [
      "Model: \"sequential\"\n",
      "_________________________________________________________________\n",
      " Layer (type)                Output Shape              Param #   \n",
      "=================================================================\n",
      " flatten (Flatten)           (None, 784)               0         \n",
      "                                                                 \n",
      " dense (Dense)               (None, 4)                 3140      \n",
      "                                                                 \n",
      " dense_1 (Dense)             (None, 4)                 20        \n",
      "                                                                 \n",
      " dense_2 (Dense)             (None, 10)                50        \n",
      "                                                                 \n",
      "=================================================================\n",
      "Total params: 3,210\n",
      "Trainable params: 3,210\n",
      "Non-trainable params: 0\n",
      "_________________________________________________________________\n"
     ]
    }
   ],
   "source": [
    "model.summary()"
   ]
  },
  {
   "cell_type": "markdown",
   "id": "6b9de9a9",
   "metadata": {},
   "source": [
    "# Improving the accuracy by Scaling the pixel values (Normalization)"
   ]
  },
  {
   "cell_type": "code",
   "execution_count": 15,
   "id": "7bfaa074",
   "metadata": {},
   "outputs": [],
   "source": [
    "train_data_norm = train_data / 255.0\n",
    "test_data_norm = test_data / 255.5"
   ]
  },
  {
   "cell_type": "code",
   "execution_count": 16,
   "id": "1279d5f2",
   "metadata": {},
   "outputs": [
    {
     "data": {
      "text/plain": [
       "array([[0.        , 0.        , 0.        , 0.        , 0.        ,\n",
       "        0.        , 0.        , 0.        , 0.        , 0.        ,\n",
       "        0.        , 0.        , 0.        , 0.        , 0.        ,\n",
       "        0.        , 0.        , 0.        , 0.        , 0.        ,\n",
       "        0.        , 0.        , 0.        , 0.        , 0.        ,\n",
       "        0.        , 0.        , 0.        ],\n",
       "       [0.        , 0.        , 0.        , 0.        , 0.        ,\n",
       "        0.        , 0.        , 0.        , 0.        , 0.        ,\n",
       "        0.        , 0.        , 0.        , 0.        , 0.        ,\n",
       "        0.        , 0.        , 0.        , 0.        , 0.        ,\n",
       "        0.        , 0.        , 0.        , 0.        , 0.        ,\n",
       "        0.        , 0.        , 0.        ],\n",
       "       [0.        , 0.        , 0.        , 0.        , 0.        ,\n",
       "        0.        , 0.        , 0.        , 0.        , 0.        ,\n",
       "        0.        , 0.        , 0.        , 0.        , 0.        ,\n",
       "        0.        , 0.        , 0.        , 0.        , 0.        ,\n",
       "        0.        , 0.        , 0.        , 0.        , 0.        ,\n",
       "        0.        , 0.        , 0.        ],\n",
       "       [0.        , 0.        , 0.        , 0.        , 0.        ,\n",
       "        0.        , 0.        , 0.        , 0.        , 0.        ,\n",
       "        0.        , 0.        , 0.00392157, 0.        , 0.        ,\n",
       "        0.05098039, 0.28627451, 0.        , 0.        , 0.00392157,\n",
       "        0.01568627, 0.        , 0.        , 0.        , 0.        ,\n",
       "        0.00392157, 0.00392157, 0.        ],\n",
       "       [0.        , 0.        , 0.        , 0.        , 0.        ,\n",
       "        0.        , 0.        , 0.        , 0.        , 0.        ,\n",
       "        0.        , 0.        , 0.01176471, 0.        , 0.14117647,\n",
       "        0.53333333, 0.49803922, 0.24313725, 0.21176471, 0.        ,\n",
       "        0.        , 0.        , 0.00392157, 0.01176471, 0.01568627,\n",
       "        0.        , 0.        , 0.01176471],\n",
       "       [0.        , 0.        , 0.        , 0.        , 0.        ,\n",
       "        0.        , 0.        , 0.        , 0.        , 0.        ,\n",
       "        0.        , 0.        , 0.02352941, 0.        , 0.4       ,\n",
       "        0.8       , 0.69019608, 0.5254902 , 0.56470588, 0.48235294,\n",
       "        0.09019608, 0.        , 0.        , 0.        , 0.        ,\n",
       "        0.04705882, 0.03921569, 0.        ],\n",
       "       [0.        , 0.        , 0.        , 0.        , 0.        ,\n",
       "        0.        , 0.        , 0.        , 0.        , 0.        ,\n",
       "        0.        , 0.        , 0.        , 0.        , 0.60784314,\n",
       "        0.9254902 , 0.81176471, 0.69803922, 0.41960784, 0.61176471,\n",
       "        0.63137255, 0.42745098, 0.25098039, 0.09019608, 0.30196078,\n",
       "        0.50980392, 0.28235294, 0.05882353],\n",
       "       [0.        , 0.        , 0.        , 0.        , 0.        ,\n",
       "        0.        , 0.        , 0.        , 0.        , 0.        ,\n",
       "        0.        , 0.00392157, 0.        , 0.27058824, 0.81176471,\n",
       "        0.8745098 , 0.85490196, 0.84705882, 0.84705882, 0.63921569,\n",
       "        0.49803922, 0.4745098 , 0.47843137, 0.57254902, 0.55294118,\n",
       "        0.34509804, 0.6745098 , 0.25882353],\n",
       "       [0.        , 0.        , 0.        , 0.        , 0.        ,\n",
       "        0.        , 0.        , 0.        , 0.        , 0.00392157,\n",
       "        0.00392157, 0.00392157, 0.        , 0.78431373, 0.90980392,\n",
       "        0.90980392, 0.91372549, 0.89803922, 0.8745098 , 0.8745098 ,\n",
       "        0.84313725, 0.83529412, 0.64313725, 0.49803922, 0.48235294,\n",
       "        0.76862745, 0.89803922, 0.        ],\n",
       "       [0.        , 0.        , 0.        , 0.        , 0.        ,\n",
       "        0.        , 0.        , 0.        , 0.        , 0.        ,\n",
       "        0.        , 0.        , 0.        , 0.71764706, 0.88235294,\n",
       "        0.84705882, 0.8745098 , 0.89411765, 0.92156863, 0.89019608,\n",
       "        0.87843137, 0.87058824, 0.87843137, 0.86666667, 0.8745098 ,\n",
       "        0.96078431, 0.67843137, 0.        ],\n",
       "       [0.        , 0.        , 0.        , 0.        , 0.        ,\n",
       "        0.        , 0.        , 0.        , 0.        , 0.        ,\n",
       "        0.        , 0.        , 0.        , 0.75686275, 0.89411765,\n",
       "        0.85490196, 0.83529412, 0.77647059, 0.70588235, 0.83137255,\n",
       "        0.82352941, 0.82745098, 0.83529412, 0.8745098 , 0.8627451 ,\n",
       "        0.95294118, 0.79215686, 0.        ],\n",
       "       [0.        , 0.        , 0.        , 0.        , 0.        ,\n",
       "        0.        , 0.        , 0.        , 0.        , 0.00392157,\n",
       "        0.01176471, 0.        , 0.04705882, 0.85882353, 0.8627451 ,\n",
       "        0.83137255, 0.85490196, 0.75294118, 0.6627451 , 0.89019608,\n",
       "        0.81568627, 0.85490196, 0.87843137, 0.83137255, 0.88627451,\n",
       "        0.77254902, 0.81960784, 0.20392157],\n",
       "       [0.        , 0.        , 0.        , 0.        , 0.        ,\n",
       "        0.        , 0.        , 0.        , 0.        , 0.        ,\n",
       "        0.02352941, 0.        , 0.38823529, 0.95686275, 0.87058824,\n",
       "        0.8627451 , 0.85490196, 0.79607843, 0.77647059, 0.86666667,\n",
       "        0.84313725, 0.83529412, 0.87058824, 0.8627451 , 0.96078431,\n",
       "        0.46666667, 0.65490196, 0.21960784],\n",
       "       [0.        , 0.        , 0.        , 0.        , 0.        ,\n",
       "        0.        , 0.        , 0.        , 0.        , 0.01568627,\n",
       "        0.        , 0.        , 0.21568627, 0.9254902 , 0.89411765,\n",
       "        0.90196078, 0.89411765, 0.94117647, 0.90980392, 0.83529412,\n",
       "        0.85490196, 0.8745098 , 0.91764706, 0.85098039, 0.85098039,\n",
       "        0.81960784, 0.36078431, 0.        ],\n",
       "       [0.        , 0.        , 0.00392157, 0.01568627, 0.02352941,\n",
       "        0.02745098, 0.00784314, 0.        , 0.        , 0.        ,\n",
       "        0.        , 0.        , 0.92941176, 0.88627451, 0.85098039,\n",
       "        0.8745098 , 0.87058824, 0.85882353, 0.87058824, 0.86666667,\n",
       "        0.84705882, 0.8745098 , 0.89803922, 0.84313725, 0.85490196,\n",
       "        1.        , 0.30196078, 0.        ],\n",
       "       [0.        , 0.01176471, 0.        , 0.        , 0.        ,\n",
       "        0.        , 0.        , 0.        , 0.        , 0.24313725,\n",
       "        0.56862745, 0.8       , 0.89411765, 0.81176471, 0.83529412,\n",
       "        0.86666667, 0.85490196, 0.81568627, 0.82745098, 0.85490196,\n",
       "        0.87843137, 0.8745098 , 0.85882353, 0.84313725, 0.87843137,\n",
       "        0.95686275, 0.62352941, 0.        ],\n",
       "       [0.        , 0.        , 0.        , 0.        , 0.07058824,\n",
       "        0.17254902, 0.32156863, 0.41960784, 0.74117647, 0.89411765,\n",
       "        0.8627451 , 0.87058824, 0.85098039, 0.88627451, 0.78431373,\n",
       "        0.80392157, 0.82745098, 0.90196078, 0.87843137, 0.91764706,\n",
       "        0.69019608, 0.7372549 , 0.98039216, 0.97254902, 0.91372549,\n",
       "        0.93333333, 0.84313725, 0.        ],\n",
       "       [0.        , 0.22352941, 0.73333333, 0.81568627, 0.87843137,\n",
       "        0.86666667, 0.87843137, 0.81568627, 0.8       , 0.83921569,\n",
       "        0.81568627, 0.81960784, 0.78431373, 0.62352941, 0.96078431,\n",
       "        0.75686275, 0.80784314, 0.8745098 , 1.        , 1.        ,\n",
       "        0.86666667, 0.91764706, 0.86666667, 0.82745098, 0.8627451 ,\n",
       "        0.90980392, 0.96470588, 0.        ],\n",
       "       [0.01176471, 0.79215686, 0.89411765, 0.87843137, 0.86666667,\n",
       "        0.82745098, 0.82745098, 0.83921569, 0.80392157, 0.80392157,\n",
       "        0.80392157, 0.8627451 , 0.94117647, 0.31372549, 0.58823529,\n",
       "        1.        , 0.89803922, 0.86666667, 0.7372549 , 0.60392157,\n",
       "        0.74901961, 0.82352941, 0.8       , 0.81960784, 0.87058824,\n",
       "        0.89411765, 0.88235294, 0.        ],\n",
       "       [0.38431373, 0.91372549, 0.77647059, 0.82352941, 0.87058824,\n",
       "        0.89803922, 0.89803922, 0.91764706, 0.97647059, 0.8627451 ,\n",
       "        0.76078431, 0.84313725, 0.85098039, 0.94509804, 0.25490196,\n",
       "        0.28627451, 0.41568627, 0.45882353, 0.65882353, 0.85882353,\n",
       "        0.86666667, 0.84313725, 0.85098039, 0.8745098 , 0.8745098 ,\n",
       "        0.87843137, 0.89803922, 0.11372549],\n",
       "       [0.29411765, 0.8       , 0.83137255, 0.8       , 0.75686275,\n",
       "        0.80392157, 0.82745098, 0.88235294, 0.84705882, 0.7254902 ,\n",
       "        0.77254902, 0.80784314, 0.77647059, 0.83529412, 0.94117647,\n",
       "        0.76470588, 0.89019608, 0.96078431, 0.9372549 , 0.8745098 ,\n",
       "        0.85490196, 0.83137255, 0.81960784, 0.87058824, 0.8627451 ,\n",
       "        0.86666667, 0.90196078, 0.2627451 ],\n",
       "       [0.18823529, 0.79607843, 0.71764706, 0.76078431, 0.83529412,\n",
       "        0.77254902, 0.7254902 , 0.74509804, 0.76078431, 0.75294118,\n",
       "        0.79215686, 0.83921569, 0.85882353, 0.86666667, 0.8627451 ,\n",
       "        0.9254902 , 0.88235294, 0.84705882, 0.78039216, 0.80784314,\n",
       "        0.72941176, 0.70980392, 0.69411765, 0.6745098 , 0.70980392,\n",
       "        0.80392157, 0.80784314, 0.45098039],\n",
       "       [0.        , 0.47843137, 0.85882353, 0.75686275, 0.70196078,\n",
       "        0.67058824, 0.71764706, 0.76862745, 0.8       , 0.82352941,\n",
       "        0.83529412, 0.81176471, 0.82745098, 0.82352941, 0.78431373,\n",
       "        0.76862745, 0.76078431, 0.74901961, 0.76470588, 0.74901961,\n",
       "        0.77647059, 0.75294118, 0.69019608, 0.61176471, 0.65490196,\n",
       "        0.69411765, 0.82352941, 0.36078431],\n",
       "       [0.        , 0.        , 0.29019608, 0.74117647, 0.83137255,\n",
       "        0.74901961, 0.68627451, 0.6745098 , 0.68627451, 0.70980392,\n",
       "        0.7254902 , 0.7372549 , 0.74117647, 0.7372549 , 0.75686275,\n",
       "        0.77647059, 0.8       , 0.81960784, 0.82352941, 0.82352941,\n",
       "        0.82745098, 0.7372549 , 0.7372549 , 0.76078431, 0.75294118,\n",
       "        0.84705882, 0.66666667, 0.        ],\n",
       "       [0.00784314, 0.        , 0.        , 0.        , 0.25882353,\n",
       "        0.78431373, 0.87058824, 0.92941176, 0.9372549 , 0.94901961,\n",
       "        0.96470588, 0.95294118, 0.95686275, 0.86666667, 0.8627451 ,\n",
       "        0.75686275, 0.74901961, 0.70196078, 0.71372549, 0.71372549,\n",
       "        0.70980392, 0.69019608, 0.65098039, 0.65882353, 0.38823529,\n",
       "        0.22745098, 0.        , 0.        ],\n",
       "       [0.        , 0.        , 0.        , 0.        , 0.        ,\n",
       "        0.        , 0.        , 0.15686275, 0.23921569, 0.17254902,\n",
       "        0.28235294, 0.16078431, 0.1372549 , 0.        , 0.        ,\n",
       "        0.        , 0.        , 0.        , 0.        , 0.        ,\n",
       "        0.        , 0.        , 0.        , 0.        , 0.        ,\n",
       "        0.        , 0.        , 0.        ],\n",
       "       [0.        , 0.        , 0.        , 0.        , 0.        ,\n",
       "        0.        , 0.        , 0.        , 0.        , 0.        ,\n",
       "        0.        , 0.        , 0.        , 0.        , 0.        ,\n",
       "        0.        , 0.        , 0.        , 0.        , 0.        ,\n",
       "        0.        , 0.        , 0.        , 0.        , 0.        ,\n",
       "        0.        , 0.        , 0.        ],\n",
       "       [0.        , 0.        , 0.        , 0.        , 0.        ,\n",
       "        0.        , 0.        , 0.        , 0.        , 0.        ,\n",
       "        0.        , 0.        , 0.        , 0.        , 0.        ,\n",
       "        0.        , 0.        , 0.        , 0.        , 0.        ,\n",
       "        0.        , 0.        , 0.        , 0.        , 0.        ,\n",
       "        0.        , 0.        , 0.        ]])"
      ]
     },
     "execution_count": 16,
     "metadata": {},
     "output_type": "execute_result"
    }
   ],
   "source": [
    "train_data_norm[0]"
   ]
  },
  {
   "cell_type": "code",
   "execution_count": 20,
   "id": "dd91f14b",
   "metadata": {},
   "outputs": [],
   "source": [
    "model_norm = tf.keras.Sequential([\n",
    "    tf.keras.layers.Flatten(input_shape=(28, 28)),\n",
    "    tf.keras.layers.Dense(10, activation=\"relu\"),\n",
    "    tf.keras.layers.Dense(10, activation=\"relu\"),\n",
    "    tf.keras.layers.Dense(10, activation=\"softmax\")\n",
    "])"
   ]
  },
  {
   "cell_type": "code",
   "execution_count": 21,
   "id": "36edea04",
   "metadata": {},
   "outputs": [],
   "source": [
    "model_norm.compile(\n",
    "    loss=tf.keras.losses.SparseCategoricalCrossentropy(),\n",
    "    optimizer=tf.keras.optimizers.Adam(),\n",
    "    metrics=[\"accuracy\"]\n",
    ")"
   ]
  },
  {
   "cell_type": "code",
   "execution_count": 23,
   "id": "e7a23602",
   "metadata": {},
   "outputs": [
    {
     "name": "stdout",
     "output_type": "stream",
     "text": [
      "Epoch 1/30\n",
      "1875/1875 [==============================] - 2s 829us/step - loss: 0.3444 - accuracy: 0.8770 - val_loss: 99.5638 - val_accuracy: 0.7905\n",
      "Epoch 2/30\n",
      "1875/1875 [==============================] - 2s 1ms/step - loss: 0.3432 - accuracy: 0.8776 - val_loss: 120.4781 - val_accuracy: 0.7628\n",
      "Epoch 3/30\n",
      "1875/1875 [==============================] - 2s 1ms/step - loss: 0.3423 - accuracy: 0.8774 - val_loss: 102.2839 - val_accuracy: 0.7814\n",
      "Epoch 4/30\n",
      "1875/1875 [==============================] - 2s 1ms/step - loss: 0.3398 - accuracy: 0.8784 - val_loss: 118.8099 - val_accuracy: 0.7683\n",
      "Epoch 5/30\n",
      "1875/1875 [==============================] - 2s 1ms/step - loss: 0.3384 - accuracy: 0.8790 - val_loss: 118.1944 - val_accuracy: 0.7739\n",
      "Epoch 6/30\n",
      "1875/1875 [==============================] - 2s 1ms/step - loss: 0.3384 - accuracy: 0.8785 - val_loss: 118.1101 - val_accuracy: 0.7749\n",
      "Epoch 7/30\n",
      "1875/1875 [==============================] - 2s 1ms/step - loss: 0.3371 - accuracy: 0.8795 - val_loss: 93.2216 - val_accuracy: 0.7965\n",
      "Epoch 8/30\n",
      "1875/1875 [==============================] - 2s 1ms/step - loss: 0.3333 - accuracy: 0.8816 - val_loss: 95.6191 - val_accuracy: 0.7971\n",
      "Epoch 9/30\n",
      "1875/1875 [==============================] - 2s 1ms/step - loss: 0.3328 - accuracy: 0.8815 - val_loss: 95.5000 - val_accuracy: 0.8004\n",
      "Epoch 10/30\n",
      "1875/1875 [==============================] - 2s 1ms/step - loss: 0.3345 - accuracy: 0.8803 - val_loss: 110.0054 - val_accuracy: 0.7862\n",
      "Epoch 11/30\n",
      "1875/1875 [==============================] - 2s 1ms/step - loss: 0.3317 - accuracy: 0.8797 - val_loss: 128.3719 - val_accuracy: 0.7605\n",
      "Epoch 12/30\n",
      "1875/1875 [==============================] - 2s 878us/step - loss: 0.3296 - accuracy: 0.8815 - val_loss: 110.9892 - val_accuracy: 0.7840\n",
      "Epoch 13/30\n",
      "1875/1875 [==============================] - 2s 897us/step - loss: 0.3285 - accuracy: 0.8832 - val_loss: 108.2139 - val_accuracy: 0.7772\n",
      "Epoch 14/30\n",
      "1875/1875 [==============================] - 2s 864us/step - loss: 0.3292 - accuracy: 0.8832 - val_loss: 112.2313 - val_accuracy: 0.7800\n",
      "Epoch 15/30\n",
      "1875/1875 [==============================] - 2s 866us/step - loss: 0.3274 - accuracy: 0.8823 - val_loss: 102.5492 - val_accuracy: 0.7876\n",
      "Epoch 16/30\n",
      "1875/1875 [==============================] - 2s 866us/step - loss: 0.3262 - accuracy: 0.8831 - val_loss: 131.7446 - val_accuracy: 0.7522\n",
      "Epoch 17/30\n",
      "1875/1875 [==============================] - 2s 878us/step - loss: 0.3249 - accuracy: 0.8831 - val_loss: 117.9789 - val_accuracy: 0.7695\n",
      "Epoch 18/30\n",
      "1875/1875 [==============================] - 2s 875us/step - loss: 0.3256 - accuracy: 0.8821 - val_loss: 112.4022 - val_accuracy: 0.7761\n",
      "Epoch 19/30\n",
      "1875/1875 [==============================] - 2s 871us/step - loss: 0.3251 - accuracy: 0.8839 - val_loss: 127.9513 - val_accuracy: 0.7605\n",
      "Epoch 20/30\n",
      "1875/1875 [==============================] - 2s 873us/step - loss: 0.3233 - accuracy: 0.8838 - val_loss: 134.1924 - val_accuracy: 0.7545\n",
      "Epoch 21/30\n",
      "1875/1875 [==============================] - 2s 873us/step - loss: 0.3217 - accuracy: 0.8842 - val_loss: 116.3404 - val_accuracy: 0.7720\n",
      "Epoch 22/30\n",
      "1875/1875 [==============================] - 2s 888us/step - loss: 0.3211 - accuracy: 0.8845 - val_loss: 118.8458 - val_accuracy: 0.7646\n",
      "Epoch 23/30\n",
      "1875/1875 [==============================] - 2s 879us/step - loss: 0.3209 - accuracy: 0.8850 - val_loss: 108.8210 - val_accuracy: 0.7720\n",
      "Epoch 24/30\n",
      "1875/1875 [==============================] - 2s 886us/step - loss: 0.3204 - accuracy: 0.8847 - val_loss: 111.5873 - val_accuracy: 0.7759\n",
      "Epoch 25/30\n",
      "1875/1875 [==============================] - 2s 876us/step - loss: 0.3184 - accuracy: 0.8855 - val_loss: 122.4866 - val_accuracy: 0.7705\n",
      "Epoch 26/30\n",
      "1875/1875 [==============================] - 2s 879us/step - loss: 0.3206 - accuracy: 0.8853 - val_loss: 120.4581 - val_accuracy: 0.7575\n",
      "Epoch 27/30\n",
      "1875/1875 [==============================] - 2s 898us/step - loss: 0.3179 - accuracy: 0.8855 - val_loss: 113.8035 - val_accuracy: 0.7699\n",
      "Epoch 28/30\n",
      "1875/1875 [==============================] - 2s 885us/step - loss: 0.3159 - accuracy: 0.8854 - val_loss: 136.3689 - val_accuracy: 0.7497\n",
      "Epoch 29/30\n",
      "1875/1875 [==============================] - 2s 870us/step - loss: 0.3174 - accuracy: 0.8866 - val_loss: 133.7044 - val_accuracy: 0.7497\n",
      "Epoch 30/30\n",
      "1875/1875 [==============================] - 2s 873us/step - loss: 0.3156 - accuracy: 0.8869 - val_loss: 119.7428 - val_accuracy: 0.7684\n"
     ]
    },
    {
     "data": {
      "text/plain": [
       "<keras.callbacks.History at 0x7f8a50b4a6a0>"
      ]
     },
     "execution_count": 23,
     "metadata": {},
     "output_type": "execute_result"
    }
   ],
   "source": [
    "model_norm.fit(\n",
    "    tf.expand_dims(train_data_norm, axis=-1),\n",
    "    train_labels,\n",
    "    epochs=30,\n",
    "    validation_data=((test_data, test_labels))\n",
    ")"
   ]
  },
  {
   "cell_type": "markdown",
   "id": "b1a195bf",
   "metadata": {},
   "source": [
    "# Evaluating the Performance of the new model by creating a confusion matrix plot"
   ]
  },
  {
   "cell_type": "code",
   "execution_count": 24,
   "id": "f015bf19",
   "metadata": {},
   "outputs": [],
   "source": [
    "y_probs = model_norm.predict(test_data_norm)"
   ]
  },
  {
   "cell_type": "code",
   "execution_count": 25,
   "id": "2521a40a",
   "metadata": {},
   "outputs": [],
   "source": [
    "y_preds = []\n",
    "\n",
    "\n",
    "for y in y_probs:\n",
    "    prob = tf.argmax(y).numpy()\n",
    "    y_preds.append(prob)"
   ]
  },
  {
   "cell_type": "code",
   "execution_count": 26,
   "id": "59dfae92",
   "metadata": {},
   "outputs": [],
   "source": [
    "from sklearn.metrics import confusion_matrix"
   ]
  },
  {
   "cell_type": "code",
   "execution_count": 27,
   "id": "7c52f3dd",
   "metadata": {},
   "outputs": [],
   "source": [
    "cm = confusion_matrix(test_labels, y_preds)"
   ]
  },
  {
   "cell_type": "code",
   "execution_count": 28,
   "id": "29379705",
   "metadata": {},
   "outputs": [],
   "source": [
    "import seaborn as sns"
   ]
  },
  {
   "cell_type": "code",
   "execution_count": 30,
   "id": "6af71c1a",
   "metadata": {},
   "outputs": [
    {
     "data": {
      "text/plain": [
       "Text(69.0, 0.5, 'truth')"
      ]
     },
     "execution_count": 30,
     "metadata": {},
     "output_type": "execute_result"
    },
    {
     "data": {
      "image/png": "[encoded data removed]",
      "text/plain": [
       "<Figure size 720x504 with 2 Axes>"
      ]
     },
     "metadata": {
      "needs_background": "light"
     },
     "output_type": "display_data"
    }
   ],
   "source": [
    "plt.figure(figsize=(10, 7))\n",
    "sns.heatmap(cm, annot=True)\n",
    "plt.xlabel('Predicted')\n",
    "plt.ylabel('truth')"
   ]
  },
  {
   "cell_type": "markdown",
   "id": "462ec7b2",
   "metadata": {},
   "source": [
    "Conclusion:\n",
    "\n",
    "* Overall Accuracy: 88.69%"
   ]
  }
 ],
 "metadata": {
  "kernelspec": {
   "display_name": "Python 3 (ipykernel)",
   "language": "python",
   "name": "python3"
  },
  "language_info": {
   "codemirror_mode": {
    "name": "ipython",
    "version": 3
   },
   "file_extension": ".py",
   "mimetype": "text/x-python",
   "name": "python",
   "nbconvert_exporter": "python",
   "pygments_lexer": "ipython3",
   "version": "3.9.7"
  }
 },
 "nbformat": 4,
 "nbformat_minor": 5
}

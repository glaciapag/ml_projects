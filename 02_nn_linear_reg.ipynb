{
 "cells": [
  {
   "cell_type": "markdown",
   "id": "6ae58ffd",
   "metadata": {},
   "source": [
    "# Predicting Insurance Price using `tensor-flow` Neural Network Regression Model"
   ]
  },
  {
   "cell_type": "markdown",
   "id": "0d2451c3",
   "metadata": {},
   "source": [
    "## [Dataset Reference](https://www.kaggle.com/mirichoi0218/insurance?select=insurance.csv)"
   ]
  },
  {
   "cell_type": "markdown",
   "id": "5aedc30d",
   "metadata": {},
   "source": [
    "# 1. Import Libraries"
   ]
  },
  {
   "cell_type": "code",
   "execution_count": 2,
   "id": "4fa888f1",
   "metadata": {},
   "outputs": [],
   "source": [
    "import numpy as np\n",
    "import pandas as pd\n",
    "import seaborn as sns\n",
    "import matplotlib.pyplot as plt\n",
    "import tensorflow as tf"
   ]
  },
  {
   "cell_type": "markdown",
   "id": "b60f4e22",
   "metadata": {},
   "source": [
    "# 2. Loading the Dataset"
   ]
  },
  {
   "cell_type": "code",
   "execution_count": 3,
   "id": "50e160c5",
   "metadata": {},
   "outputs": [],
   "source": [
    "df = pd.read_csv(\"insurance.csv\")"
   ]
  },
  {
   "cell_type": "markdown",
   "id": "e4e47a21",
   "metadata": {},
   "source": [
    "# 3. Exploratory Data Analysis"
   ]
  },
  {
   "cell_type": "code",
   "execution_count": 4,
   "id": "62478746",
   "metadata": {},
   "outputs": [
    {
     "data": {
      "text/html": [
       "<div>\n",
       "<style scoped>\n",
       "    .dataframe tbody tr th:only-of-type {\n",
       "        vertical-align: middle;\n",
       "    }\n",
       "\n",
       "    .dataframe tbody tr th {\n",
       "        vertical-align: top;\n",
       "    }\n",
       "\n",
       "    .dataframe thead th {\n",
       "        text-align: right;\n",
       "    }\n",
       "</style>\n",
       "<table border=\"1\" class=\"dataframe\">\n",
       "  <thead>\n",
       "    <tr style=\"text-align: right;\">\n",
       "      <th></th>\n",
       "      <th>age</th>\n",
       "      <th>sex</th>\n",
       "      <th>bmi</th>\n",
       "      <th>children</th>\n",
       "      <th>smoker</th>\n",
       "      <th>region</th>\n",
       "      <th>charges</th>\n",
       "    </tr>\n",
       "  </thead>\n",
       "  <tbody>\n",
       "    <tr>\n",
       "      <th>0</th>\n",
       "      <td>19</td>\n",
       "      <td>female</td>\n",
       "      <td>27.900</td>\n",
       "      <td>0</td>\n",
       "      <td>yes</td>\n",
       "      <td>southwest</td>\n",
       "      <td>16884.92400</td>\n",
       "    </tr>\n",
       "    <tr>\n",
       "      <th>1</th>\n",
       "      <td>18</td>\n",
       "      <td>male</td>\n",
       "      <td>33.770</td>\n",
       "      <td>1</td>\n",
       "      <td>no</td>\n",
       "      <td>southeast</td>\n",
       "      <td>1725.55230</td>\n",
       "    </tr>\n",
       "    <tr>\n",
       "      <th>2</th>\n",
       "      <td>28</td>\n",
       "      <td>male</td>\n",
       "      <td>33.000</td>\n",
       "      <td>3</td>\n",
       "      <td>no</td>\n",
       "      <td>southeast</td>\n",
       "      <td>4449.46200</td>\n",
       "    </tr>\n",
       "    <tr>\n",
       "      <th>3</th>\n",
       "      <td>33</td>\n",
       "      <td>male</td>\n",
       "      <td>22.705</td>\n",
       "      <td>0</td>\n",
       "      <td>no</td>\n",
       "      <td>northwest</td>\n",
       "      <td>21984.47061</td>\n",
       "    </tr>\n",
       "    <tr>\n",
       "      <th>4</th>\n",
       "      <td>32</td>\n",
       "      <td>male</td>\n",
       "      <td>28.880</td>\n",
       "      <td>0</td>\n",
       "      <td>no</td>\n",
       "      <td>northwest</td>\n",
       "      <td>3866.85520</td>\n",
       "    </tr>\n",
       "  </tbody>\n",
       "</table>\n",
       "</div>"
      ],
      "text/plain": [
       "   age     sex     bmi  children smoker     region      charges\n",
       "0   19  female  27.900         0    yes  southwest  16884.92400\n",
       "1   18    male  33.770         1     no  southeast   1725.55230\n",
       "2   28    male  33.000         3     no  southeast   4449.46200\n",
       "3   33    male  22.705         0     no  northwest  21984.47061\n",
       "4   32    male  28.880         0     no  northwest   3866.85520"
      ]
     },
     "execution_count": 4,
     "metadata": {},
     "output_type": "execute_result"
    }
   ],
   "source": [
    "df.head()"
   ]
  },
  {
   "cell_type": "code",
   "execution_count": 5,
   "id": "ca102136",
   "metadata": {},
   "outputs": [
    {
     "data": {
      "text/html": [
       "<div>\n",
       "<style scoped>\n",
       "    .dataframe tbody tr th:only-of-type {\n",
       "        vertical-align: middle;\n",
       "    }\n",
       "\n",
       "    .dataframe tbody tr th {\n",
       "        vertical-align: top;\n",
       "    }\n",
       "\n",
       "    .dataframe thead th {\n",
       "        text-align: right;\n",
       "    }\n",
       "</style>\n",
       "<table border=\"1\" class=\"dataframe\">\n",
       "  <thead>\n",
       "    <tr style=\"text-align: right;\">\n",
       "      <th></th>\n",
       "      <th>age</th>\n",
       "      <th>bmi</th>\n",
       "      <th>children</th>\n",
       "      <th>charges</th>\n",
       "    </tr>\n",
       "  </thead>\n",
       "  <tbody>\n",
       "    <tr>\n",
       "      <th>count</th>\n",
       "      <td>1338.000000</td>\n",
       "      <td>1338.000000</td>\n",
       "      <td>1338.000000</td>\n",
       "      <td>1338.000000</td>\n",
       "    </tr>\n",
       "    <tr>\n",
       "      <th>mean</th>\n",
       "      <td>39.207025</td>\n",
       "      <td>30.663397</td>\n",
       "      <td>1.094918</td>\n",
       "      <td>13270.422265</td>\n",
       "    </tr>\n",
       "    <tr>\n",
       "      <th>std</th>\n",
       "      <td>14.049960</td>\n",
       "      <td>6.098187</td>\n",
       "      <td>1.205493</td>\n",
       "      <td>12110.011237</td>\n",
       "    </tr>\n",
       "    <tr>\n",
       "      <th>min</th>\n",
       "      <td>18.000000</td>\n",
       "      <td>15.960000</td>\n",
       "      <td>0.000000</td>\n",
       "      <td>1121.873900</td>\n",
       "    </tr>\n",
       "    <tr>\n",
       "      <th>25%</th>\n",
       "      <td>27.000000</td>\n",
       "      <td>26.296250</td>\n",
       "      <td>0.000000</td>\n",
       "      <td>4740.287150</td>\n",
       "    </tr>\n",
       "    <tr>\n",
       "      <th>50%</th>\n",
       "      <td>39.000000</td>\n",
       "      <td>30.400000</td>\n",
       "      <td>1.000000</td>\n",
       "      <td>9382.033000</td>\n",
       "    </tr>\n",
       "    <tr>\n",
       "      <th>75%</th>\n",
       "      <td>51.000000</td>\n",
       "      <td>34.693750</td>\n",
       "      <td>2.000000</td>\n",
       "      <td>16639.912515</td>\n",
       "    </tr>\n",
       "    <tr>\n",
       "      <th>max</th>\n",
       "      <td>64.000000</td>\n",
       "      <td>53.130000</td>\n",
       "      <td>5.000000</td>\n",
       "      <td>63770.428010</td>\n",
       "    </tr>\n",
       "  </tbody>\n",
       "</table>\n",
       "</div>"
      ],
      "text/plain": [
       "               age          bmi     children       charges\n",
       "count  1338.000000  1338.000000  1338.000000   1338.000000\n",
       "mean     39.207025    30.663397     1.094918  13270.422265\n",
       "std      14.049960     6.098187     1.205493  12110.011237\n",
       "min      18.000000    15.960000     0.000000   1121.873900\n",
       "25%      27.000000    26.296250     0.000000   4740.287150\n",
       "50%      39.000000    30.400000     1.000000   9382.033000\n",
       "75%      51.000000    34.693750     2.000000  16639.912515\n",
       "max      64.000000    53.130000     5.000000  63770.428010"
      ]
     },
     "execution_count": 5,
     "metadata": {},
     "output_type": "execute_result"
    }
   ],
   "source": [
    "df.describe()"
   ]
  },
  {
   "cell_type": "code",
   "execution_count": 6,
   "id": "0a80e0b1",
   "metadata": {},
   "outputs": [
    {
     "name": "stdout",
     "output_type": "stream",
     "text": [
      "<class 'pandas.core.frame.DataFrame'>\n",
      "RangeIndex: 1338 entries, 0 to 1337\n",
      "Data columns (total 7 columns):\n",
      " #   Column    Non-Null Count  Dtype  \n",
      "---  ------    --------------  -----  \n",
      " 0   age       1338 non-null   int64  \n",
      " 1   sex       1338 non-null   object \n",
      " 2   bmi       1338 non-null   float64\n",
      " 3   children  1338 non-null   int64  \n",
      " 4   smoker    1338 non-null   object \n",
      " 5   region    1338 non-null   object \n",
      " 6   charges   1338 non-null   float64\n",
      "dtypes: float64(2), int64(2), object(3)\n",
      "memory usage: 73.3+ KB\n"
     ]
    }
   ],
   "source": [
    "df.info()"
   ]
  },
  {
   "cell_type": "markdown",
   "id": "1e9a897f",
   "metadata": {},
   "source": [
    "There are 1338 rows, 7 columns, and no non-missing values."
   ]
  },
  {
   "cell_type": "markdown",
   "id": "9c0925a4",
   "metadata": {},
   "source": [
    "# 4. Visualizing the Data"
   ]
  },
  {
   "cell_type": "code",
   "execution_count": 7,
   "id": "5469b1be",
   "metadata": {},
   "outputs": [],
   "source": [
    "numerical_cols = df._get_numeric_data().columns\n",
    "categorical_cols = df.drop(columns=numerical_cols).columns"
   ]
  },
  {
   "cell_type": "code",
   "execution_count": 8,
   "id": "0bbfa78e",
   "metadata": {},
   "outputs": [],
   "source": [
    "def categorical_dist(cols, df):\n",
    "    \n",
    "    n_rows = (len(cols) // 2) + 1\n",
    "    plt.figure(figsize=(10, 8))\n",
    "    \n",
    "    for i, c in enumerate(cols):\n",
    "        plt.subplot(n_rows, 2, i+1)\n",
    "        sns.histplot(df[c])\n",
    "        plt.title(f\"Categorical Distribution by {c.title()}\")\n",
    "        \n",
    "    plt.tight_layout()              \n",
    "    plt.show()"
   ]
  },
  {
   "cell_type": "code",
   "execution_count": 9,
   "id": "676ce075",
   "metadata": {},
   "outputs": [
    {
     "data": {
      "image/png": "[encoded data removed]",
      "text/plain": [
       "<Figure size 720x576 with 3 Axes>"
      ]
     },
     "metadata": {
      "needs_background": "light"
     },
     "output_type": "display_data"
    }
   ],
   "source": [
    "categorical_dist(categorical_cols, df)"
   ]
  },
  {
   "cell_type": "code",
   "execution_count": 10,
   "id": "92ea5dc0",
   "metadata": {},
   "outputs": [
    {
     "data": {
      "text/html": [
       "<div>\n",
       "<style scoped>\n",
       "    .dataframe tbody tr th:only-of-type {\n",
       "        vertical-align: middle;\n",
       "    }\n",
       "\n",
       "    .dataframe tbody tr th {\n",
       "        vertical-align: top;\n",
       "    }\n",
       "\n",
       "    .dataframe thead th {\n",
       "        text-align: right;\n",
       "    }\n",
       "</style>\n",
       "<table border=\"1\" class=\"dataframe\">\n",
       "  <thead>\n",
       "    <tr style=\"text-align: right;\">\n",
       "      <th></th>\n",
       "      <th>age</th>\n",
       "      <th>sex</th>\n",
       "      <th>bmi</th>\n",
       "      <th>children</th>\n",
       "      <th>region</th>\n",
       "      <th>charges</th>\n",
       "    </tr>\n",
       "    <tr>\n",
       "      <th>smoker</th>\n",
       "      <th></th>\n",
       "      <th></th>\n",
       "      <th></th>\n",
       "      <th></th>\n",
       "      <th></th>\n",
       "      <th></th>\n",
       "    </tr>\n",
       "  </thead>\n",
       "  <tbody>\n",
       "    <tr>\n",
       "      <th>no</th>\n",
       "      <td>1064</td>\n",
       "      <td>1064</td>\n",
       "      <td>1064</td>\n",
       "      <td>1064</td>\n",
       "      <td>1064</td>\n",
       "      <td>1064</td>\n",
       "    </tr>\n",
       "    <tr>\n",
       "      <th>yes</th>\n",
       "      <td>274</td>\n",
       "      <td>274</td>\n",
       "      <td>274</td>\n",
       "      <td>274</td>\n",
       "      <td>274</td>\n",
       "      <td>274</td>\n",
       "    </tr>\n",
       "  </tbody>\n",
       "</table>\n",
       "</div>"
      ],
      "text/plain": [
       "         age   sex   bmi  children  region  charges\n",
       "smoker                                             \n",
       "no      1064  1064  1064      1064    1064     1064\n",
       "yes      274   274   274       274     274      274"
      ]
     },
     "execution_count": 10,
     "metadata": {},
     "output_type": "execute_result"
    }
   ],
   "source": [
    "df.groupby([\"smoker\"]).count()"
   ]
  },
  {
   "cell_type": "code",
   "execution_count": 11,
   "id": "f97ab2e4",
   "metadata": {},
   "outputs": [],
   "source": [
    "def numerical_dist(cols, df):\n",
    "    \n",
    "    n_rows = (len(cols) // 2) + 1\n",
    "    plt.figure(figsize=(10, 8))\n",
    "    \n",
    "    for i, c in enumerate(cols):\n",
    "        plt.subplot(n_rows, 2, i+1)\n",
    "        sns.histplot(df[c])\n",
    "        plt.title(f\"Numerical Distribution by {c.title()}\")\n",
    "        \n",
    "    plt.tight_layout()              \n",
    "    plt.show()"
   ]
  },
  {
   "cell_type": "code",
   "execution_count": 12,
   "id": "2d6e7d85",
   "metadata": {},
   "outputs": [
    {
     "data": {
      "image/png": "[encoded data removed]",
      "text/plain": [
       "<Figure size 720x576 with 4 Axes>"
      ]
     },
     "metadata": {
      "needs_background": "light"
     },
     "output_type": "display_data"
    }
   ],
   "source": [
    "numerical_dist(numerical_cols, df)"
   ]
  },
  {
   "cell_type": "markdown",
   "id": "da98276a",
   "metadata": {},
   "source": [
    "# 4. Numerical Encoding of Categorical Features"
   ]
  },
  {
   "cell_type": "code",
   "execution_count": 13,
   "id": "acd19804",
   "metadata": {},
   "outputs": [
    {
     "data": {
      "text/html": [
       "<div>\n",
       "<style scoped>\n",
       "    .dataframe tbody tr th:only-of-type {\n",
       "        vertical-align: middle;\n",
       "    }\n",
       "\n",
       "    .dataframe tbody tr th {\n",
       "        vertical-align: top;\n",
       "    }\n",
       "\n",
       "    .dataframe thead th {\n",
       "        text-align: right;\n",
       "    }\n",
       "</style>\n",
       "<table border=\"1\" class=\"dataframe\">\n",
       "  <thead>\n",
       "    <tr style=\"text-align: right;\">\n",
       "      <th></th>\n",
       "      <th>age</th>\n",
       "      <th>bmi</th>\n",
       "      <th>children</th>\n",
       "      <th>charges</th>\n",
       "      <th>sex_female</th>\n",
       "      <th>sex_male</th>\n",
       "      <th>smoker_no</th>\n",
       "      <th>smoker_yes</th>\n",
       "      <th>region_northeast</th>\n",
       "      <th>region_northwest</th>\n",
       "      <th>region_southeast</th>\n",
       "      <th>region_southwest</th>\n",
       "    </tr>\n",
       "  </thead>\n",
       "  <tbody>\n",
       "    <tr>\n",
       "      <th>0</th>\n",
       "      <td>19</td>\n",
       "      <td>27.900</td>\n",
       "      <td>0</td>\n",
       "      <td>16884.92400</td>\n",
       "      <td>1</td>\n",
       "      <td>0</td>\n",
       "      <td>0</td>\n",
       "      <td>1</td>\n",
       "      <td>0</td>\n",
       "      <td>0</td>\n",
       "      <td>0</td>\n",
       "      <td>1</td>\n",
       "    </tr>\n",
       "    <tr>\n",
       "      <th>1</th>\n",
       "      <td>18</td>\n",
       "      <td>33.770</td>\n",
       "      <td>1</td>\n",
       "      <td>1725.55230</td>\n",
       "      <td>0</td>\n",
       "      <td>1</td>\n",
       "      <td>1</td>\n",
       "      <td>0</td>\n",
       "      <td>0</td>\n",
       "      <td>0</td>\n",
       "      <td>1</td>\n",
       "      <td>0</td>\n",
       "    </tr>\n",
       "    <tr>\n",
       "      <th>2</th>\n",
       "      <td>28</td>\n",
       "      <td>33.000</td>\n",
       "      <td>3</td>\n",
       "      <td>4449.46200</td>\n",
       "      <td>0</td>\n",
       "      <td>1</td>\n",
       "      <td>1</td>\n",
       "      <td>0</td>\n",
       "      <td>0</td>\n",
       "      <td>0</td>\n",
       "      <td>1</td>\n",
       "      <td>0</td>\n",
       "    </tr>\n",
       "    <tr>\n",
       "      <th>3</th>\n",
       "      <td>33</td>\n",
       "      <td>22.705</td>\n",
       "      <td>0</td>\n",
       "      <td>21984.47061</td>\n",
       "      <td>0</td>\n",
       "      <td>1</td>\n",
       "      <td>1</td>\n",
       "      <td>0</td>\n",
       "      <td>0</td>\n",
       "      <td>1</td>\n",
       "      <td>0</td>\n",
       "      <td>0</td>\n",
       "    </tr>\n",
       "    <tr>\n",
       "      <th>4</th>\n",
       "      <td>32</td>\n",
       "      <td>28.880</td>\n",
       "      <td>0</td>\n",
       "      <td>3866.85520</td>\n",
       "      <td>0</td>\n",
       "      <td>1</td>\n",
       "      <td>1</td>\n",
       "      <td>0</td>\n",
       "      <td>0</td>\n",
       "      <td>1</td>\n",
       "      <td>0</td>\n",
       "      <td>0</td>\n",
       "    </tr>\n",
       "    <tr>\n",
       "      <th>...</th>\n",
       "      <td>...</td>\n",
       "      <td>...</td>\n",
       "      <td>...</td>\n",
       "      <td>...</td>\n",
       "      <td>...</td>\n",
       "      <td>...</td>\n",
       "      <td>...</td>\n",
       "      <td>...</td>\n",
       "      <td>...</td>\n",
       "      <td>...</td>\n",
       "      <td>...</td>\n",
       "      <td>...</td>\n",
       "    </tr>\n",
       "    <tr>\n",
       "      <th>1333</th>\n",
       "      <td>50</td>\n",
       "      <td>30.970</td>\n",
       "      <td>3</td>\n",
       "      <td>10600.54830</td>\n",
       "      <td>0</td>\n",
       "      <td>1</td>\n",
       "      <td>1</td>\n",
       "      <td>0</td>\n",
       "      <td>0</td>\n",
       "      <td>1</td>\n",
       "      <td>0</td>\n",
       "      <td>0</td>\n",
       "    </tr>\n",
       "    <tr>\n",
       "      <th>1334</th>\n",
       "      <td>18</td>\n",
       "      <td>31.920</td>\n",
       "      <td>0</td>\n",
       "      <td>2205.98080</td>\n",
       "      <td>1</td>\n",
       "      <td>0</td>\n",
       "      <td>1</td>\n",
       "      <td>0</td>\n",
       "      <td>1</td>\n",
       "      <td>0</td>\n",
       "      <td>0</td>\n",
       "      <td>0</td>\n",
       "    </tr>\n",
       "    <tr>\n",
       "      <th>1335</th>\n",
       "      <td>18</td>\n",
       "      <td>36.850</td>\n",
       "      <td>0</td>\n",
       "      <td>1629.83350</td>\n",
       "      <td>1</td>\n",
       "      <td>0</td>\n",
       "      <td>1</td>\n",
       "      <td>0</td>\n",
       "      <td>0</td>\n",
       "      <td>0</td>\n",
       "      <td>1</td>\n",
       "      <td>0</td>\n",
       "    </tr>\n",
       "    <tr>\n",
       "      <th>1336</th>\n",
       "      <td>21</td>\n",
       "      <td>25.800</td>\n",
       "      <td>0</td>\n",
       "      <td>2007.94500</td>\n",
       "      <td>1</td>\n",
       "      <td>0</td>\n",
       "      <td>1</td>\n",
       "      <td>0</td>\n",
       "      <td>0</td>\n",
       "      <td>0</td>\n",
       "      <td>0</td>\n",
       "      <td>1</td>\n",
       "    </tr>\n",
       "    <tr>\n",
       "      <th>1337</th>\n",
       "      <td>61</td>\n",
       "      <td>29.070</td>\n",
       "      <td>0</td>\n",
       "      <td>29141.36030</td>\n",
       "      <td>1</td>\n",
       "      <td>0</td>\n",
       "      <td>0</td>\n",
       "      <td>1</td>\n",
       "      <td>0</td>\n",
       "      <td>1</td>\n",
       "      <td>0</td>\n",
       "      <td>0</td>\n",
       "    </tr>\n",
       "  </tbody>\n",
       "</table>\n",
       "<p>1338 rows × 12 columns</p>\n",
       "</div>"
      ],
      "text/plain": [
       "      age     bmi  children      charges  sex_female  sex_male  smoker_no  \\\n",
       "0      19  27.900         0  16884.92400           1         0          0   \n",
       "1      18  33.770         1   1725.55230           0         1          1   \n",
       "2      28  33.000         3   4449.46200           0         1          1   \n",
       "3      33  22.705         0  21984.47061           0         1          1   \n",
       "4      32  28.880         0   3866.85520           0         1          1   \n",
       "...   ...     ...       ...          ...         ...       ...        ...   \n",
       "1333   50  30.970         3  10600.54830           0         1          1   \n",
       "1334   18  31.920         0   2205.98080           1         0          1   \n",
       "1335   18  36.850         0   1629.83350           1         0          1   \n",
       "1336   21  25.800         0   2007.94500           1         0          1   \n",
       "1337   61  29.070         0  29141.36030           1         0          0   \n",
       "\n",
       "      smoker_yes  region_northeast  region_northwest  region_southeast  \\\n",
       "0              1                 0                 0                 0   \n",
       "1              0                 0                 0                 1   \n",
       "2              0                 0                 0                 1   \n",
       "3              0                 0                 1                 0   \n",
       "4              0                 0                 1                 0   \n",
       "...          ...               ...               ...               ...   \n",
       "1333           0                 0                 1                 0   \n",
       "1334           0                 1                 0                 0   \n",
       "1335           0                 0                 0                 1   \n",
       "1336           0                 0                 0                 0   \n",
       "1337           1                 0                 1                 0   \n",
       "\n",
       "      region_southwest  \n",
       "0                    1  \n",
       "1                    0  \n",
       "2                    0  \n",
       "3                    0  \n",
       "4                    0  \n",
       "...                ...  \n",
       "1333                 0  \n",
       "1334                 0  \n",
       "1335                 0  \n",
       "1336                 1  \n",
       "1337                 0  \n",
       "\n",
       "[1338 rows x 12 columns]"
      ]
     },
     "execution_count": 13,
     "metadata": {},
     "output_type": "execute_result"
    }
   ],
   "source": [
    "df_one_hot = pd.get_dummies(df)\n",
    "df_one_hot"
   ]
  },
  {
   "cell_type": "code",
   "execution_count": 14,
   "id": "ddbf8fcf",
   "metadata": {},
   "outputs": [],
   "source": [
    "from sklearn.model_selection import train_test_split"
   ]
  },
  {
   "cell_type": "code",
   "execution_count": 15,
   "id": "46147936",
   "metadata": {},
   "outputs": [],
   "source": [
    "X = df_one_hot.drop(columns=[\"charges\"])\n",
    "y = df[\"charges\"]"
   ]
  },
  {
   "cell_type": "code",
   "execution_count": 16,
   "id": "73a2941e",
   "metadata": {},
   "outputs": [
    {
     "data": {
      "text/html": [
       "<div>\n",
       "<style scoped>\n",
       "    .dataframe tbody tr th:only-of-type {\n",
       "        vertical-align: middle;\n",
       "    }\n",
       "\n",
       "    .dataframe tbody tr th {\n",
       "        vertical-align: top;\n",
       "    }\n",
       "\n",
       "    .dataframe thead th {\n",
       "        text-align: right;\n",
       "    }\n",
       "</style>\n",
       "<table border=\"1\" class=\"dataframe\">\n",
       "  <thead>\n",
       "    <tr style=\"text-align: right;\">\n",
       "      <th></th>\n",
       "      <th>age</th>\n",
       "      <th>bmi</th>\n",
       "      <th>children</th>\n",
       "      <th>sex_female</th>\n",
       "      <th>sex_male</th>\n",
       "      <th>smoker_no</th>\n",
       "      <th>smoker_yes</th>\n",
       "      <th>region_northeast</th>\n",
       "      <th>region_northwest</th>\n",
       "      <th>region_southeast</th>\n",
       "      <th>region_southwest</th>\n",
       "    </tr>\n",
       "  </thead>\n",
       "  <tbody>\n",
       "    <tr>\n",
       "      <th>0</th>\n",
       "      <td>19</td>\n",
       "      <td>27.900</td>\n",
       "      <td>0</td>\n",
       "      <td>1</td>\n",
       "      <td>0</td>\n",
       "      <td>0</td>\n",
       "      <td>1</td>\n",
       "      <td>0</td>\n",
       "      <td>0</td>\n",
       "      <td>0</td>\n",
       "      <td>1</td>\n",
       "    </tr>\n",
       "    <tr>\n",
       "      <th>1</th>\n",
       "      <td>18</td>\n",
       "      <td>33.770</td>\n",
       "      <td>1</td>\n",
       "      <td>0</td>\n",
       "      <td>1</td>\n",
       "      <td>1</td>\n",
       "      <td>0</td>\n",
       "      <td>0</td>\n",
       "      <td>0</td>\n",
       "      <td>1</td>\n",
       "      <td>0</td>\n",
       "    </tr>\n",
       "    <tr>\n",
       "      <th>2</th>\n",
       "      <td>28</td>\n",
       "      <td>33.000</td>\n",
       "      <td>3</td>\n",
       "      <td>0</td>\n",
       "      <td>1</td>\n",
       "      <td>1</td>\n",
       "      <td>0</td>\n",
       "      <td>0</td>\n",
       "      <td>0</td>\n",
       "      <td>1</td>\n",
       "      <td>0</td>\n",
       "    </tr>\n",
       "    <tr>\n",
       "      <th>3</th>\n",
       "      <td>33</td>\n",
       "      <td>22.705</td>\n",
       "      <td>0</td>\n",
       "      <td>0</td>\n",
       "      <td>1</td>\n",
       "      <td>1</td>\n",
       "      <td>0</td>\n",
       "      <td>0</td>\n",
       "      <td>1</td>\n",
       "      <td>0</td>\n",
       "      <td>0</td>\n",
       "    </tr>\n",
       "    <tr>\n",
       "      <th>4</th>\n",
       "      <td>32</td>\n",
       "      <td>28.880</td>\n",
       "      <td>0</td>\n",
       "      <td>0</td>\n",
       "      <td>1</td>\n",
       "      <td>1</td>\n",
       "      <td>0</td>\n",
       "      <td>0</td>\n",
       "      <td>1</td>\n",
       "      <td>0</td>\n",
       "      <td>0</td>\n",
       "    </tr>\n",
       "  </tbody>\n",
       "</table>\n",
       "</div>"
      ],
      "text/plain": [
       "   age     bmi  children  sex_female  sex_male  smoker_no  smoker_yes  \\\n",
       "0   19  27.900         0           1         0          0           1   \n",
       "1   18  33.770         1           0         1          1           0   \n",
       "2   28  33.000         3           0         1          1           0   \n",
       "3   33  22.705         0           0         1          1           0   \n",
       "4   32  28.880         0           0         1          1           0   \n",
       "\n",
       "   region_northeast  region_northwest  region_southeast  region_southwest  \n",
       "0                 0                 0                 0                 1  \n",
       "1                 0                 0                 1                 0  \n",
       "2                 0                 0                 1                 0  \n",
       "3                 0                 1                 0                 0  \n",
       "4                 0                 1                 0                 0  "
      ]
     },
     "execution_count": 16,
     "metadata": {},
     "output_type": "execute_result"
    }
   ],
   "source": [
    "X.head()"
   ]
  },
  {
   "cell_type": "code",
   "execution_count": 17,
   "id": "62e299d4",
   "metadata": {},
   "outputs": [
    {
     "data": {
      "text/plain": [
       "0    16884.92400\n",
       "1     1725.55230\n",
       "2     4449.46200\n",
       "3    21984.47061\n",
       "4     3866.85520\n",
       "Name: charges, dtype: float64"
      ]
     },
     "execution_count": 17,
     "metadata": {},
     "output_type": "execute_result"
    }
   ],
   "source": [
    "y.head()"
   ]
  },
  {
   "cell_type": "code",
   "execution_count": 18,
   "id": "d9aa3f23",
   "metadata": {},
   "outputs": [],
   "source": [
    "X_train, X_test, y_train, y_test = train_test_split(X, y, test_size=0.2, random_state=42)"
   ]
  },
  {
   "cell_type": "code",
   "execution_count": 19,
   "id": "bcb474cc",
   "metadata": {},
   "outputs": [
    {
     "data": {
      "text/plain": [
       "(1070, 268)"
      ]
     },
     "execution_count": 19,
     "metadata": {},
     "output_type": "execute_result"
    }
   ],
   "source": [
    "len(X_train), len(X_test)"
   ]
  },
  {
   "cell_type": "markdown",
   "id": "ec5feb5b",
   "metadata": {},
   "source": [
    "# 5. Building the Neural Netork Regression Model"
   ]
  },
  {
   "cell_type": "code",
   "execution_count": 21,
   "id": "b6c860bc",
   "metadata": {},
   "outputs": [],
   "source": [
    "tf.random.set_seed(42)\n",
    "\n",
    "model = tf.keras.Sequential([\n",
    "    tf.keras.layers.Dense(10),\n",
    "    tf.keras.layers.Dense(10),\n",
    "    tf.keras.layers.Dense(1)\n",
    "])"
   ]
  },
  {
   "cell_type": "markdown",
   "id": "3c47f8b1",
   "metadata": {},
   "source": [
    "# 6. Compiling the Model"
   ]
  },
  {
   "cell_type": "code",
   "execution_count": 23,
   "id": "8e2a2f31",
   "metadata": {},
   "outputs": [],
   "source": [
    "model.compile(\n",
    "    loss=[\"mae\"],\n",
    "    optimizer=tf.keras.optimizers.Adam(learning_rate=0.001),\n",
    "    metrics=[\"mae\"]\n",
    ")"
   ]
  },
  {
   "cell_type": "markdown",
   "id": "28eb3a16",
   "metadata": {},
   "source": [
    "# 7. Saving the Model"
   ]
  },
  {
   "cell_type": "code",
   "execution_count": 24,
   "id": "2451f591",
   "metadata": {
    "scrolled": false
   },
   "outputs": [
    {
     "name": "stdout",
     "output_type": "stream",
     "text": [
      "Epoch 1/100\n",
      "34/34 [==============================] - 0s 822us/step - loss: 13310.7373 - mae: 13310.7373\n",
      "Epoch 2/100\n",
      "34/34 [==============================] - 0s 809us/step - loss: 13273.1016 - mae: 13273.1016\n",
      "Epoch 3/100\n",
      "34/34 [==============================] - 0s 846us/step - loss: 13218.5830 - mae: 13218.5830\n",
      "Epoch 4/100\n",
      "34/34 [==============================] - 0s 928us/step - loss: 13135.9414 - mae: 13135.9414\n",
      "Epoch 5/100\n",
      "34/34 [==============================] - 0s 853us/step - loss: 13012.6992 - mae: 13012.6992\n",
      "Epoch 6/100\n",
      "34/34 [==============================] - 0s 870us/step - loss: 12833.9033 - mae: 12833.9033\n",
      "Epoch 7/100\n",
      "34/34 [==============================] - 0s 894us/step - loss: 12584.4990 - mae: 12584.4990\n",
      "Epoch 8/100\n",
      "34/34 [==============================] - 0s 905us/step - loss: 12247.6895 - mae: 12247.6895\n",
      "Epoch 9/100\n",
      "34/34 [==============================] - 0s 937us/step - loss: 11808.0303 - mae: 11808.0303\n",
      "Epoch 10/100\n",
      "34/34 [==============================] - 0s 928us/step - loss: 11263.2881 - mae: 11263.2881\n",
      "Epoch 11/100\n",
      "34/34 [==============================] - 0s 938us/step - loss: 10638.5537 - mae: 10638.5537\n",
      "Epoch 12/100\n",
      "34/34 [==============================] - 0s 967us/step - loss: 9977.4463 - mae: 9977.4463\n",
      "Epoch 13/100\n",
      "34/34 [==============================] - 0s 914us/step - loss: 9319.3584 - mae: 9319.3584\n",
      "Epoch 14/100\n",
      "34/34 [==============================] - 0s 931us/step - loss: 8694.5029 - mae: 8694.5029\n",
      "Epoch 15/100\n",
      "34/34 [==============================] - 0s 938us/step - loss: 8181.3662 - mae: 8181.3662\n",
      "Epoch 16/100\n",
      "34/34 [==============================] - 0s 939us/step - loss: 7805.0288 - mae: 7805.0288\n",
      "Epoch 17/100\n",
      "34/34 [==============================] - 0s 915us/step - loss: 7601.2661 - mae: 7601.2661\n",
      "Epoch 18/100\n",
      "34/34 [==============================] - 0s 948us/step - loss: 7515.0273 - mae: 7515.0273\n",
      "Epoch 19/100\n",
      "34/34 [==============================] - 0s 1ms/step - loss: 7478.3447 - mae: 7478.3447\n",
      "Epoch 20/100\n",
      "34/34 [==============================] - 0s 1ms/step - loss: 7460.0532 - mae: 7460.0532\n",
      "Epoch 21/100\n",
      "34/34 [==============================] - 0s 1ms/step - loss: 7450.6958 - mae: 7450.6958\n",
      "Epoch 22/100\n",
      "34/34 [==============================] - 0s 1ms/step - loss: 7440.3521 - mae: 7440.3521\n",
      "Epoch 23/100\n",
      "34/34 [==============================] - 0s 1ms/step - loss: 7432.3833 - mae: 7432.3833\n",
      "Epoch 24/100\n",
      "34/34 [==============================] - 0s 1ms/step - loss: 7424.0820 - mae: 7424.0820\n",
      "Epoch 25/100\n",
      "34/34 [==============================] - 0s 1ms/step - loss: 7420.1108 - mae: 7420.1108\n",
      "Epoch 26/100\n",
      "34/34 [==============================] - 0s 1ms/step - loss: 7406.9351 - mae: 7406.9351\n",
      "Epoch 27/100\n",
      "34/34 [==============================] - 0s 1ms/step - loss: 7397.7651 - mae: 7397.7651\n",
      "Epoch 28/100\n",
      "34/34 [==============================] - 0s 1ms/step - loss: 7389.0903 - mae: 7389.0903\n",
      "Epoch 29/100\n",
      "34/34 [==============================] - 0s 1ms/step - loss: 7380.9590 - mae: 7380.9590\n",
      "Epoch 30/100\n",
      "34/34 [==============================] - 0s 1ms/step - loss: 7371.7744 - mae: 7371.7744\n",
      "Epoch 31/100\n",
      "34/34 [==============================] - 0s 1ms/step - loss: 7363.0317 - mae: 7363.0317\n",
      "Epoch 32/100\n",
      "34/34 [==============================] - 0s 1ms/step - loss: 7355.4717 - mae: 7355.4717\n",
      "Epoch 33/100\n",
      "34/34 [==============================] - 0s 969us/step - loss: 7345.8096 - mae: 7345.8096\n",
      "Epoch 34/100\n",
      "34/34 [==============================] - 0s 1ms/step - loss: 7336.2295 - mae: 7336.2295\n",
      "Epoch 35/100\n",
      "34/34 [==============================] - 0s 982us/step - loss: 7327.1807 - mae: 7327.1807\n",
      "Epoch 36/100\n",
      "34/34 [==============================] - 0s 920us/step - loss: 7317.6353 - mae: 7317.6353\n",
      "Epoch 37/100\n",
      "34/34 [==============================] - 0s 1ms/step - loss: 7307.9614 - mae: 7307.9614\n",
      "Epoch 38/100\n",
      "34/34 [==============================] - 0s 1ms/step - loss: 7300.2261 - mae: 7300.2261\n",
      "Epoch 39/100\n",
      "34/34 [==============================] - 0s 897us/step - loss: 7289.3711 - mae: 7289.3711\n",
      "Epoch 40/100\n",
      "34/34 [==============================] - 0s 843us/step - loss: 7280.2080 - mae: 7280.2080\n",
      "Epoch 41/100\n",
      "34/34 [==============================] - 0s 800us/step - loss: 7270.6558 - mae: 7270.6558\n",
      "Epoch 42/100\n",
      "34/34 [==============================] - 0s 803us/step - loss: 7264.1836 - mae: 7264.1836\n",
      "Epoch 43/100\n",
      "34/34 [==============================] - 0s 829us/step - loss: 7251.8965 - mae: 7251.8965\n",
      "Epoch 44/100\n",
      "34/34 [==============================] - 0s 785us/step - loss: 7242.2578 - mae: 7242.2578\n",
      "Epoch 45/100\n",
      "34/34 [==============================] - 0s 810us/step - loss: 7232.3608 - mae: 7232.3613\n",
      "Epoch 46/100\n",
      "34/34 [==============================] - 0s 775us/step - loss: 7223.0068 - mae: 7223.0068\n",
      "Epoch 47/100\n",
      "34/34 [==============================] - 0s 766us/step - loss: 7215.5977 - mae: 7215.5977\n",
      "Epoch 48/100\n",
      "34/34 [==============================] - 0s 825us/step - loss: 7202.5264 - mae: 7202.5264\n",
      "Epoch 49/100\n",
      "34/34 [==============================] - 0s 787us/step - loss: 7194.7480 - mae: 7194.7480\n",
      "Epoch 50/100\n",
      "34/34 [==============================] - 0s 785us/step - loss: 7181.1714 - mae: 7181.1714\n",
      "Epoch 51/100\n",
      "34/34 [==============================] - 0s 755us/step - loss: 7173.4038 - mae: 7173.4038\n",
      "Epoch 52/100\n",
      "34/34 [==============================] - 0s 813us/step - loss: 7161.7017 - mae: 7161.7017\n",
      "Epoch 53/100\n",
      "34/34 [==============================] - 0s 782us/step - loss: 7150.3906 - mae: 7150.3906\n",
      "Epoch 54/100\n",
      "34/34 [==============================] - 0s 752us/step - loss: 7139.0283 - mae: 7139.0283\n",
      "Epoch 55/100\n",
      "34/34 [==============================] - 0s 770us/step - loss: 7128.3345 - mae: 7128.3345\n",
      "Epoch 56/100\n",
      "34/34 [==============================] - 0s 784us/step - loss: 7117.1157 - mae: 7117.1157\n",
      "Epoch 57/100\n",
      "34/34 [==============================] - 0s 794us/step - loss: 7106.3569 - mae: 7106.3569\n",
      "Epoch 58/100\n",
      "34/34 [==============================] - 0s 753us/step - loss: 7094.7476 - mae: 7094.7476\n",
      "Epoch 59/100\n",
      "34/34 [==============================] - 0s 785us/step - loss: 7085.1357 - mae: 7085.1357\n",
      "Epoch 60/100\n",
      "34/34 [==============================] - 0s 835us/step - loss: 7073.0854 - mae: 7073.0854\n",
      "Epoch 61/100\n",
      "34/34 [==============================] - 0s 734us/step - loss: 7061.7852 - mae: 7061.7852\n",
      "Epoch 62/100\n",
      "34/34 [==============================] - 0s 762us/step - loss: 7049.3042 - mae: 7049.3042\n",
      "Epoch 63/100\n",
      "34/34 [==============================] - 0s 787us/step - loss: 7038.2578 - mae: 7038.2578\n",
      "Epoch 64/100\n",
      "34/34 [==============================] - 0s 774us/step - loss: 7026.9419 - mae: 7026.9419\n",
      "Epoch 65/100\n",
      "34/34 [==============================] - 0s 748us/step - loss: 7015.4097 - mae: 7015.4097\n",
      "Epoch 66/100\n",
      "34/34 [==============================] - 0s 777us/step - loss: 7002.7012 - mae: 7002.7012\n",
      "Epoch 67/100\n",
      "34/34 [==============================] - 0s 834us/step - loss: 6992.2749 - mae: 6992.2749\n",
      "Epoch 68/100\n",
      "34/34 [==============================] - 0s 764us/step - loss: 6979.4097 - mae: 6979.4097\n",
      "Epoch 69/100\n",
      "34/34 [==============================] - 0s 751us/step - loss: 6966.5522 - mae: 6966.5522\n",
      "Epoch 70/100\n",
      "34/34 [==============================] - 0s 779us/step - loss: 6954.7124 - mae: 6954.7124\n",
      "Epoch 71/100\n",
      "34/34 [==============================] - 0s 818us/step - loss: 6941.6577 - mae: 6941.6577\n",
      "Epoch 72/100\n",
      "34/34 [==============================] - 0s 771us/step - loss: 6929.2090 - mae: 6929.2090\n",
      "Epoch 73/100\n",
      "34/34 [==============================] - 0s 799us/step - loss: 6915.5981 - mae: 6915.5981\n",
      "Epoch 74/100\n",
      "34/34 [==============================] - 0s 841us/step - loss: 6902.8101 - mae: 6902.8101\n",
      "Epoch 75/100\n",
      "34/34 [==============================] - 0s 741us/step - loss: 6889.5151 - mae: 6889.5151\n",
      "Epoch 76/100\n",
      "34/34 [==============================] - 0s 793us/step - loss: 6878.0947 - mae: 6878.0947\n",
      "Epoch 77/100\n",
      "34/34 [==============================] - 0s 832us/step - loss: 6863.0093 - mae: 6863.0093\n",
      "Epoch 78/100\n",
      "34/34 [==============================] - 0s 735us/step - loss: 6851.1396 - mae: 6851.1396\n",
      "Epoch 79/100\n",
      "34/34 [==============================] - 0s 745us/step - loss: 6836.5239 - mae: 6836.5239\n",
      "Epoch 80/100\n"
     ]
    },
    {
     "name": "stdout",
     "output_type": "stream",
     "text": [
      "34/34 [==============================] - 0s 734us/step - loss: 6823.0850 - mae: 6823.0850\n",
      "Epoch 81/100\n",
      "34/34 [==============================] - 0s 844us/step - loss: 6808.9424 - mae: 6808.9424\n",
      "Epoch 82/100\n",
      "34/34 [==============================] - 0s 818us/step - loss: 6797.8110 - mae: 6797.8110\n",
      "Epoch 83/100\n",
      "34/34 [==============================] - 0s 740us/step - loss: 6783.4907 - mae: 6783.4907\n",
      "Epoch 84/100\n",
      "34/34 [==============================] - 0s 760us/step - loss: 6766.4399 - mae: 6766.4399\n",
      "Epoch 85/100\n",
      "34/34 [==============================] - 0s 812us/step - loss: 6753.1406 - mae: 6753.1406\n",
      "Epoch 86/100\n",
      "34/34 [==============================] - 0s 724us/step - loss: 6737.0190 - mae: 6737.0190\n",
      "Epoch 87/100\n",
      "34/34 [==============================] - 0s 716us/step - loss: 6722.0322 - mae: 6722.0322\n",
      "Epoch 88/100\n",
      "34/34 [==============================] - 0s 737us/step - loss: 6706.6021 - mae: 6706.6021\n",
      "Epoch 89/100\n",
      "34/34 [==============================] - 0s 712us/step - loss: 6691.0635 - mae: 6691.0635\n",
      "Epoch 90/100\n",
      "34/34 [==============================] - 0s 735us/step - loss: 6676.8164 - mae: 6676.8164\n",
      "Epoch 91/100\n",
      "34/34 [==============================] - 0s 764us/step - loss: 6660.9683 - mae: 6660.9683\n",
      "Epoch 92/100\n",
      "34/34 [==============================] - 0s 739us/step - loss: 6648.0044 - mae: 6648.0044\n",
      "Epoch 93/100\n",
      "34/34 [==============================] - 0s 773us/step - loss: 6632.2686 - mae: 6632.2686\n",
      "Epoch 94/100\n",
      "34/34 [==============================] - 0s 710us/step - loss: 6617.2422 - mae: 6617.2422\n",
      "Epoch 95/100\n",
      "34/34 [==============================] - 0s 726us/step - loss: 6601.8652 - mae: 6601.8652\n",
      "Epoch 96/100\n",
      "34/34 [==============================] - 0s 759us/step - loss: 6587.0288 - mae: 6587.0288\n",
      "Epoch 97/100\n",
      "34/34 [==============================] - 0s 718us/step - loss: 6574.2002 - mae: 6574.2002\n",
      "Epoch 98/100\n",
      "34/34 [==============================] - 0s 805us/step - loss: 6559.6562 - mae: 6559.6562\n",
      "Epoch 99/100\n",
      "34/34 [==============================] - 0s 796us/step - loss: 6548.1465 - mae: 6548.1465\n",
      "Epoch 100/100\n",
      "34/34 [==============================] - 0s 725us/step - loss: 6535.6729 - mae: 6535.6729\n"
     ]
    },
    {
     "data": {
      "text/plain": [
       "<keras.callbacks.History at 0x7f7aa26b44c0>"
      ]
     },
     "execution_count": 24,
     "metadata": {},
     "output_type": "execute_result"
    }
   ],
   "source": [
    "model.fit(X_train, y_train, epochs=100)"
   ]
  },
  {
   "cell_type": "code",
   "execution_count": 28,
   "id": "bad9b776",
   "metadata": {},
   "outputs": [],
   "source": [
    "history = pd.DataFrame(model.history.history)"
   ]
  },
  {
   "cell_type": "code",
   "execution_count": 37,
   "id": "012b67af",
   "metadata": {},
   "outputs": [
    {
     "data": {
      "image/png": "[encoded data removed]",
      "text/plain": [
       "<Figure size 432x288 with 1 Axes>"
      ]
     },
     "metadata": {
      "needs_background": "light"
     },
     "output_type": "display_data"
    }
   ],
   "source": [
    "plt.plot(history[\"loss\"], color=\"g\")\n",
    "plt.show()"
   ]
  },
  {
   "cell_type": "code",
   "execution_count": 36,
   "id": "fd223f24",
   "metadata": {},
   "outputs": [
    {
     "data": {
      "text/plain": [
       "0     True\n",
       "1     True\n",
       "2     True\n",
       "3     True\n",
       "4     True\n",
       "      ... \n",
       "95    True\n",
       "96    True\n",
       "97    True\n",
       "98    True\n",
       "99    True\n",
       "Length: 100, dtype: bool"
      ]
     },
     "execution_count": 36,
     "metadata": {},
     "output_type": "execute_result"
    }
   ],
   "source": [
    "history[\"loss\"] == history[\"mae\"]"
   ]
  },
  {
   "cell_type": "markdown",
   "id": "00d5e08f",
   "metadata": {},
   "source": [
    "# 8. Evaluating the Model"
   ]
  },
  {
   "cell_type": "code",
   "execution_count": 38,
   "id": "f00c324c",
   "metadata": {},
   "outputs": [
    {
     "name": "stdout",
     "output_type": "stream",
     "text": [
      "9/9 [==============================] - 0s 785us/step - loss: 6417.2144 - mae: 6417.2144\n"
     ]
    },
    {
     "data": {
      "text/plain": [
       "[6417.21435546875, 6417.21435546875]"
      ]
     },
     "execution_count": 38,
     "metadata": {},
     "output_type": "execute_result"
    }
   ],
   "source": [
    "model.evaluate(X_test, y_test)"
   ]
  },
  {
   "cell_type": "code",
   "execution_count": 39,
   "id": "61eae578",
   "metadata": {},
   "outputs": [
    {
     "data": {
      "text/plain": [
       "13270.422265141257"
      ]
     },
     "execution_count": 39,
     "metadata": {},
     "output_type": "execute_result"
    }
   ],
   "source": [
    "np.mean(y)"
   ]
  },
  {
   "cell_type": "markdown",
   "id": "6f1a38d2",
   "metadata": {},
   "source": [
    "## Loss = 6417"
   ]
  },
  {
   "cell_type": "markdown",
   "id": "0dfd3d85",
   "metadata": {},
   "source": [
    "# 9. Improving the Model by Normalizing the numerical features"
   ]
  },
  {
   "cell_type": "code",
   "execution_count": 40,
   "id": "220d051b",
   "metadata": {},
   "outputs": [
    {
     "data": {
      "text/plain": [
       "Index(['age', 'bmi', 'children', 'charges'], dtype='object')"
      ]
     },
     "execution_count": 40,
     "metadata": {},
     "output_type": "execute_result"
    }
   ],
   "source": [
    "numerical_cols"
   ]
  },
  {
   "cell_type": "code",
   "execution_count": 41,
   "id": "8d6de6ca",
   "metadata": {},
   "outputs": [],
   "source": [
    "numerical_cols = numerical_cols.drop(\"charges\")"
   ]
  },
  {
   "cell_type": "code",
   "execution_count": 42,
   "id": "56af5e70",
   "metadata": {},
   "outputs": [
    {
     "data": {
      "text/plain": [
       "Index(['age', 'bmi', 'children'], dtype='object')"
      ]
     },
     "execution_count": 42,
     "metadata": {},
     "output_type": "execute_result"
    }
   ],
   "source": [
    "numerical_cols"
   ]
  },
  {
   "cell_type": "code",
   "execution_count": 43,
   "id": "c656c9a6",
   "metadata": {},
   "outputs": [],
   "source": [
    "from sklearn.compose import make_column_transformer\n",
    "from sklearn.preprocessing import MinMaxScaler, OneHotEncoder"
   ]
  },
  {
   "cell_type": "code",
   "execution_count": 44,
   "id": "4c133171",
   "metadata": {},
   "outputs": [],
   "source": [
    "ct = make_column_transformer(\n",
    "    (MinMaxScaler(), numerical_cols),\n",
    "    (OneHotEncoder(handle_unknown=\"ignore\"), categorical_cols)\n",
    ")"
   ]
  },
  {
   "cell_type": "code",
   "execution_count": 45,
   "id": "02e5f9f0",
   "metadata": {},
   "outputs": [],
   "source": [
    "X_normal = df.drop(columns=[\"charges\"])\n",
    "y_normal = df[\"charges\"]"
   ]
  },
  {
   "cell_type": "code",
   "execution_count": 46,
   "id": "343558a1",
   "metadata": {},
   "outputs": [],
   "source": [
    "X_train, X_test, y_train, y_test = train_test_split(X_normal, y_normal, test_size=0.2, random_state=42)"
   ]
  },
  {
   "cell_type": "code",
   "execution_count": 47,
   "id": "a7ea8ffb",
   "metadata": {},
   "outputs": [
    {
     "data": {
      "text/plain": [
       "ColumnTransformer(transformers=[('minmaxscaler', MinMaxScaler(),\n",
       "                                 Index(['age', 'bmi', 'children'], dtype='object')),\n",
       "                                ('onehotencoder',\n",
       "                                 OneHotEncoder(handle_unknown='ignore'),\n",
       "                                 Index(['sex', 'smoker', 'region'], dtype='object'))])"
      ]
     },
     "execution_count": 47,
     "metadata": {},
     "output_type": "execute_result"
    }
   ],
   "source": [
    "ct.fit(X_train)"
   ]
  },
  {
   "cell_type": "code",
   "execution_count": 48,
   "id": "d7f968d8",
   "metadata": {},
   "outputs": [],
   "source": [
    "X_train_normal = ct.transform(X_train)\n",
    "X_test_normal = ct.transform(X_test)"
   ]
  },
  {
   "cell_type": "code",
   "execution_count": 49,
   "id": "c8408902",
   "metadata": {},
   "outputs": [
    {
     "data": {
      "text/plain": [
       "array([[0.60869565, 0.10734463, 0.4       , ..., 1.        , 0.        ,\n",
       "        0.        ],\n",
       "       [0.63043478, 0.22491256, 0.        , ..., 0.        , 0.        ,\n",
       "        0.        ],\n",
       "       [0.73913043, 0.23944041, 0.        , ..., 0.        , 1.        ,\n",
       "        0.        ],\n",
       "       ...,\n",
       "       [0.86956522, 0.24791499, 0.        , ..., 0.        , 0.        ,\n",
       "        0.        ],\n",
       "       [0.41304348, 0.85122411, 0.4       , ..., 0.        , 0.        ,\n",
       "        1.        ],\n",
       "       [0.80434783, 0.37503363, 0.        , ..., 0.        , 0.        ,\n",
       "        1.        ]])"
      ]
     },
     "execution_count": 49,
     "metadata": {},
     "output_type": "execute_result"
    }
   ],
   "source": [
    "X_train_normal"
   ]
  },
  {
   "cell_type": "markdown",
   "id": "9a8ec059",
   "metadata": {},
   "source": [
    "# 10. Retraining the model using the normalized features"
   ]
  },
  {
   "cell_type": "code",
   "execution_count": 50,
   "id": "cf0f0bf6",
   "metadata": {},
   "outputs": [],
   "source": [
    "tf.random.set_seed(42)"
   ]
  },
  {
   "cell_type": "code",
   "execution_count": 51,
   "id": "e5cf1eb2",
   "metadata": {},
   "outputs": [],
   "source": [
    "model2 = tf.keras.Sequential([\n",
    "    tf.keras.layers.Dense(10),\n",
    "    tf.keras.layers.Dense(10),\n",
    "    tf.keras.layers.Dense(1),\n",
    "])"
   ]
  },
  {
   "cell_type": "code",
   "execution_count": 56,
   "id": "a0da9fb1",
   "metadata": {},
   "outputs": [],
   "source": [
    "model2.compile(\n",
    "    loss=[\"mae\"],\n",
    "    optimizer=tf.keras.optimizers.Adam(learning_rate=0.01),\n",
    "    metrics=[\"mae\"]\n",
    ")"
   ]
  },
  {
   "cell_type": "code",
   "execution_count": 59,
   "id": "25f59e08",
   "metadata": {},
   "outputs": [
    {
     "name": "stdout",
     "output_type": "stream",
     "text": [
      "Epoch 1/100\n",
      "34/34 [==============================] - 0s 1ms/step - loss: 3485.3315 - mae: 3485.3315\n",
      "Epoch 2/100\n",
      "34/34 [==============================] - 0s 911us/step - loss: 3478.5798 - mae: 3478.5798\n",
      "Epoch 3/100\n",
      "34/34 [==============================] - 0s 963us/step - loss: 3480.8513 - mae: 3480.8513\n",
      "Epoch 4/100\n",
      "34/34 [==============================] - 0s 961us/step - loss: 3479.9622 - mae: 3479.9622\n",
      "Epoch 5/100\n",
      "34/34 [==============================] - 0s 1ms/step - loss: 3479.3926 - mae: 3479.3926\n",
      "Epoch 6/100\n",
      "34/34 [==============================] - 0s 973us/step - loss: 3492.7393 - mae: 3492.7393\n",
      "Epoch 7/100\n",
      "34/34 [==============================] - 0s 976us/step - loss: 3477.9897 - mae: 3477.9897\n",
      "Epoch 8/100\n",
      "34/34 [==============================] - 0s 997us/step - loss: 3483.9709 - mae: 3483.9709\n",
      "Epoch 9/100\n",
      "34/34 [==============================] - 0s 961us/step - loss: 3479.5176 - mae: 3479.5176\n",
      "Epoch 10/100\n",
      "34/34 [==============================] - 0s 904us/step - loss: 3484.3689 - mae: 3484.3689\n",
      "Epoch 11/100\n",
      "34/34 [==============================] - 0s 959us/step - loss: 3483.1113 - mae: 3483.1113\n",
      "Epoch 12/100\n",
      "34/34 [==============================] - 0s 977us/step - loss: 3476.9990 - mae: 3476.9990\n",
      "Epoch 13/100\n",
      "34/34 [==============================] - 0s 966us/step - loss: 3479.3059 - mae: 3479.3059\n",
      "Epoch 14/100\n",
      "34/34 [==============================] - 0s 1ms/step - loss: 3482.2771 - mae: 3482.2771\n",
      "Epoch 15/100\n",
      "34/34 [==============================] - 0s 978us/step - loss: 3480.1689 - mae: 3480.1689\n",
      "Epoch 16/100\n",
      "34/34 [==============================] - 0s 977us/step - loss: 3482.8977 - mae: 3482.8977\n",
      "Epoch 17/100\n",
      "34/34 [==============================] - 0s 971us/step - loss: 3480.4949 - mae: 3480.4949\n",
      "Epoch 18/100\n",
      "34/34 [==============================] - 0s 951us/step - loss: 3478.3601 - mae: 3478.3601\n",
      "Epoch 19/100\n",
      "34/34 [==============================] - 0s 916us/step - loss: 3485.1602 - mae: 3485.1602\n",
      "Epoch 20/100\n",
      "34/34 [==============================] - 0s 994us/step - loss: 3483.1562 - mae: 3483.1562\n",
      "Epoch 21/100\n",
      "34/34 [==============================] - 0s 1ms/step - loss: 3479.8301 - mae: 3479.8301\n",
      "Epoch 22/100\n",
      "34/34 [==============================] - 0s 1ms/step - loss: 3484.0527 - mae: 3484.0527\n",
      "Epoch 23/100\n",
      "34/34 [==============================] - 0s 1ms/step - loss: 3482.9126 - mae: 3482.9126\n",
      "Epoch 24/100\n",
      "34/34 [==============================] - 0s 1ms/step - loss: 3480.4265 - mae: 3480.4265\n",
      "Epoch 25/100\n",
      "34/34 [==============================] - 0s 1ms/step - loss: 3484.7571 - mae: 3484.7571\n",
      "Epoch 26/100\n",
      "34/34 [==============================] - 0s 1ms/step - loss: 3481.9973 - mae: 3481.9973\n",
      "Epoch 27/100\n",
      "34/34 [==============================] - 0s 1ms/step - loss: 3479.8103 - mae: 3479.8103\n",
      "Epoch 28/100\n",
      "34/34 [==============================] - 0s 1ms/step - loss: 3480.6196 - mae: 3480.6196\n",
      "Epoch 29/100\n",
      "34/34 [==============================] - 0s 1ms/step - loss: 3479.2947 - mae: 3479.2947\n",
      "Epoch 30/100\n",
      "34/34 [==============================] - 0s 1ms/step - loss: 3492.0920 - mae: 3492.0920\n",
      "Epoch 31/100\n",
      "34/34 [==============================] - 0s 1ms/step - loss: 3492.0806 - mae: 3492.0806\n",
      "Epoch 32/100\n",
      "34/34 [==============================] - 0s 1ms/step - loss: 3480.7830 - mae: 3480.7830\n",
      "Epoch 33/100\n",
      "34/34 [==============================] - 0s 1ms/step - loss: 3491.7788 - mae: 3491.7788\n",
      "Epoch 34/100\n",
      "34/34 [==============================] - 0s 1ms/step - loss: 3477.6570 - mae: 3477.6570\n",
      "Epoch 35/100\n",
      "34/34 [==============================] - 0s 1ms/step - loss: 3482.9314 - mae: 3482.9314\n",
      "Epoch 36/100\n",
      "34/34 [==============================] - 0s 1ms/step - loss: 3476.9380 - mae: 3476.9380\n",
      "Epoch 37/100\n",
      "34/34 [==============================] - 0s 1ms/step - loss: 3484.0535 - mae: 3484.0535\n",
      "Epoch 38/100\n",
      "34/34 [==============================] - 0s 1ms/step - loss: 3493.3281 - mae: 3493.3281\n",
      "Epoch 39/100\n",
      "34/34 [==============================] - 0s 1ms/step - loss: 3481.7974 - mae: 3481.7974\n",
      "Epoch 40/100\n",
      "34/34 [==============================] - 0s 1ms/step - loss: 3486.9924 - mae: 3486.9924\n",
      "Epoch 41/100\n",
      "34/34 [==============================] - 0s 1ms/step - loss: 3480.8718 - mae: 3480.8718\n",
      "Epoch 42/100\n",
      "34/34 [==============================] - 0s 1ms/step - loss: 3483.6877 - mae: 3483.6877\n",
      "Epoch 43/100\n",
      "34/34 [==============================] - 0s 1ms/step - loss: 3484.0901 - mae: 3484.0901\n",
      "Epoch 44/100\n",
      "34/34 [==============================] - 0s 1ms/step - loss: 3481.9958 - mae: 3481.9958\n",
      "Epoch 45/100\n",
      "34/34 [==============================] - 0s 1ms/step - loss: 3474.2944 - mae: 3474.2944\n",
      "Epoch 46/100\n",
      "34/34 [==============================] - 0s 1ms/step - loss: 3481.6655 - mae: 3481.6655\n",
      "Epoch 47/100\n",
      "34/34 [==============================] - 0s 1ms/step - loss: 3483.7297 - mae: 3483.7297\n",
      "Epoch 48/100\n",
      "34/34 [==============================] - 0s 1ms/step - loss: 3478.6794 - mae: 3478.6794\n",
      "Epoch 49/100\n",
      "34/34 [==============================] - 0s 991us/step - loss: 3498.7231 - mae: 3498.7231\n",
      "Epoch 50/100\n",
      "34/34 [==============================] - 0s 1ms/step - loss: 3472.8054 - mae: 3472.8054\n",
      "Epoch 51/100\n",
      "34/34 [==============================] - 0s 1ms/step - loss: 3478.2629 - mae: 3478.2629\n",
      "Epoch 52/100\n",
      "34/34 [==============================] - 0s 1ms/step - loss: 3481.0027 - mae: 3481.0027\n",
      "Epoch 53/100\n",
      "34/34 [==============================] - 0s 1ms/step - loss: 3477.2981 - mae: 3477.2981\n",
      "Epoch 54/100\n",
      "34/34 [==============================] - 0s 1ms/step - loss: 3492.8486 - mae: 3492.8486\n",
      "Epoch 55/100\n",
      "34/34 [==============================] - 0s 864us/step - loss: 3501.5542 - mae: 3501.5542\n",
      "Epoch 56/100\n",
      "34/34 [==============================] - 0s 798us/step - loss: 3482.1921 - mae: 3482.1921\n",
      "Epoch 57/100\n",
      "34/34 [==============================] - 0s 766us/step - loss: 3479.0413 - mae: 3479.0413\n",
      "Epoch 58/100\n",
      "34/34 [==============================] - 0s 1ms/step - loss: 3476.8403 - mae: 3476.8403\n",
      "Epoch 59/100\n",
      "34/34 [==============================] - 0s 844us/step - loss: 3483.3950 - mae: 3483.3950\n",
      "Epoch 60/100\n",
      "34/34 [==============================] - 0s 888us/step - loss: 3483.5857 - mae: 3483.5857\n",
      "Epoch 61/100\n",
      "34/34 [==============================] - 0s 929us/step - loss: 3483.5139 - mae: 3483.5139\n",
      "Epoch 62/100\n",
      "34/34 [==============================] - 0s 1ms/step - loss: 3478.9734 - mae: 3478.9734\n",
      "Epoch 63/100\n",
      "34/34 [==============================] - 0s 982us/step - loss: 3478.0044 - mae: 3478.0044\n",
      "Epoch 64/100\n",
      "34/34 [==============================] - 0s 816us/step - loss: 3481.1934 - mae: 3481.1934\n",
      "Epoch 65/100\n",
      "34/34 [==============================] - 0s 924us/step - loss: 3490.9368 - mae: 3490.9368\n",
      "Epoch 66/100\n",
      "34/34 [==============================] - 0s 976us/step - loss: 3488.2124 - mae: 3488.2124\n",
      "Epoch 67/100\n",
      "34/34 [==============================] - 0s 975us/step - loss: 3481.3459 - mae: 3481.3459\n",
      "Epoch 68/100\n",
      "34/34 [==============================] - 0s 1ms/step - loss: 3489.3706 - mae: 3489.3706\n",
      "Epoch 69/100\n",
      "34/34 [==============================] - 0s 1000us/step - loss: 3475.7393 - mae: 3475.7393\n",
      "Epoch 70/100\n",
      "34/34 [==============================] - 0s 1ms/step - loss: 3482.1892 - mae: 3482.1892\n",
      "Epoch 71/100\n",
      "34/34 [==============================] - 0s 859us/step - loss: 3480.6719 - mae: 3480.6719\n",
      "Epoch 72/100\n",
      "34/34 [==============================] - 0s 890us/step - loss: 3489.6519 - mae: 3489.6519\n",
      "Epoch 73/100\n",
      "34/34 [==============================] - 0s 856us/step - loss: 3486.4385 - mae: 3486.4385\n",
      "Epoch 74/100\n",
      "34/34 [==============================] - 0s 860us/step - loss: 3479.6006 - mae: 3479.6006\n",
      "Epoch 75/100\n",
      "34/34 [==============================] - 0s 823us/step - loss: 3478.3467 - mae: 3478.3467\n",
      "Epoch 76/100\n",
      "34/34 [==============================] - 0s 883us/step - loss: 3480.6260 - mae: 3480.6260\n",
      "Epoch 77/100\n",
      "34/34 [==============================] - 0s 909us/step - loss: 3479.6060 - mae: 3479.6060\n",
      "Epoch 78/100\n",
      "34/34 [==============================] - 0s 773us/step - loss: 3479.7068 - mae: 3479.7068\n",
      "Epoch 79/100\n",
      "34/34 [==============================] - 0s 799us/step - loss: 3480.4683 - mae: 3480.4683\n",
      "Epoch 80/100\n",
      "34/34 [==============================] - 0s 900us/step - loss: 3482.5732 - mae: 3482.5732\n",
      "Epoch 81/100\n"
     ]
    },
    {
     "name": "stdout",
     "output_type": "stream",
     "text": [
      "34/34 [==============================] - 0s 972us/step - loss: 3483.0015 - mae: 3483.0015\n",
      "Epoch 82/100\n",
      "34/34 [==============================] - 0s 870us/step - loss: 3478.7532 - mae: 3478.7532\n",
      "Epoch 83/100\n",
      "34/34 [==============================] - 0s 976us/step - loss: 3480.1108 - mae: 3480.1108\n",
      "Epoch 84/100\n",
      "34/34 [==============================] - 0s 904us/step - loss: 3481.3052 - mae: 3481.3052\n",
      "Epoch 85/100\n",
      "34/34 [==============================] - 0s 856us/step - loss: 3475.4146 - mae: 3475.4146\n",
      "Epoch 86/100\n",
      "34/34 [==============================] - 0s 898us/step - loss: 3476.9238 - mae: 3476.9238\n",
      "Epoch 87/100\n",
      "34/34 [==============================] - 0s 826us/step - loss: 3482.6821 - mae: 3482.6821\n",
      "Epoch 88/100\n",
      "34/34 [==============================] - 0s 796us/step - loss: 3480.5195 - mae: 3480.5195\n",
      "Epoch 89/100\n",
      "34/34 [==============================] - 0s 816us/step - loss: 3479.7673 - mae: 3479.7673\n",
      "Epoch 90/100\n",
      "34/34 [==============================] - 0s 838us/step - loss: 3480.0637 - mae: 3480.0637\n",
      "Epoch 91/100\n",
      "34/34 [==============================] - 0s 880us/step - loss: 3480.4089 - mae: 3480.4089\n",
      "Epoch 92/100\n",
      "34/34 [==============================] - 0s 877us/step - loss: 3482.0020 - mae: 3482.0020\n",
      "Epoch 93/100\n",
      "34/34 [==============================] - 0s 776us/step - loss: 3477.4800 - mae: 3477.4800\n",
      "Epoch 94/100\n",
      "34/34 [==============================] - 0s 777us/step - loss: 3480.7583 - mae: 3480.7583\n",
      "Epoch 95/100\n",
      "34/34 [==============================] - 0s 791us/step - loss: 3479.0806 - mae: 3479.0806\n",
      "Epoch 96/100\n",
      "34/34 [==============================] - 0s 889us/step - loss: 3484.6360 - mae: 3484.6360\n",
      "Epoch 97/100\n",
      "34/34 [==============================] - 0s 801us/step - loss: 3486.8884 - mae: 3486.8884\n",
      "Epoch 98/100\n",
      "34/34 [==============================] - 0s 810us/step - loss: 3479.6570 - mae: 3479.6570\n",
      "Epoch 99/100\n",
      "34/34 [==============================] - 0s 875us/step - loss: 3483.8923 - mae: 3483.8923\n",
      "Epoch 100/100\n",
      "34/34 [==============================] - 0s 766us/step - loss: 3482.0022 - mae: 3482.0022\n"
     ]
    }
   ],
   "source": [
    "history2 = model2.fit(X_train_normal, y_train, epochs=100)"
   ]
  },
  {
   "cell_type": "markdown",
   "id": "2dc6fa8d",
   "metadata": {},
   "source": [
    "## Loss = 3482"
   ]
  },
  {
   "cell_type": "markdown",
   "id": "7e6f6501",
   "metadata": {},
   "source": [
    "# 11. Tweaking the model to improve the loss"
   ]
  },
  {
   "cell_type": "code",
   "execution_count": 60,
   "id": "f2cf8ca6",
   "metadata": {},
   "outputs": [],
   "source": [
    "tf.random.set_seed(42)"
   ]
  },
  {
   "cell_type": "code",
   "execution_count": 61,
   "id": "8f909647",
   "metadata": {},
   "outputs": [],
   "source": [
    "model3 = tf.keras.Sequential([\n",
    "    tf.keras.layers.Dense(100),\n",
    "    tf.keras.layers.Dense(10),\n",
    "    tf.keras.layers.Dense(1)\n",
    "])"
   ]
  },
  {
   "cell_type": "code",
   "execution_count": 66,
   "id": "f794448a",
   "metadata": {},
   "outputs": [],
   "source": [
    "model3.compile(\n",
    "    loss=tf.keras.losses.mae,\n",
    "    optimizer=tf.keras.optimizers.Adam(learning_rate=0.001),\n",
    "    metrics=tf.keras.metrics.mae\n",
    ")"
   ]
  },
  {
   "cell_type": "code",
   "execution_count": 67,
   "id": "f8251865",
   "metadata": {},
   "outputs": [
    {
     "name": "stdout",
     "output_type": "stream",
     "text": [
      "Epoch 1/100\n",
      "34/34 [==============================] - 0s 835us/step - loss: 3633.8750 - mean_absolute_error: 3633.8750\n",
      "Epoch 2/100\n",
      "34/34 [==============================] - 0s 952us/step - loss: 3630.7744 - mean_absolute_error: 3630.7744\n",
      "Epoch 3/100\n",
      "34/34 [==============================] - 0s 996us/step - loss: 3630.1006 - mean_absolute_error: 3630.1006\n",
      "Epoch 4/100\n",
      "34/34 [==============================] - 0s 964us/step - loss: 3626.5732 - mean_absolute_error: 3626.5732\n",
      "Epoch 5/100\n",
      "34/34 [==============================] - 0s 955us/step - loss: 3627.7444 - mean_absolute_error: 3627.7444\n",
      "Epoch 6/100\n",
      "34/34 [==============================] - 0s 1ms/step - loss: 3623.4175 - mean_absolute_error: 3623.4175\n",
      "Epoch 7/100\n",
      "34/34 [==============================] - 0s 1ms/step - loss: 3620.5681 - mean_absolute_error: 3620.5681\n",
      "Epoch 8/100\n",
      "34/34 [==============================] - 0s 1ms/step - loss: 3619.9507 - mean_absolute_error: 3619.9507\n",
      "Epoch 9/100\n",
      "34/34 [==============================] - 0s 999us/step - loss: 3617.1399 - mean_absolute_error: 3617.1399\n",
      "Epoch 10/100\n",
      "34/34 [==============================] - 0s 998us/step - loss: 3616.0479 - mean_absolute_error: 3616.0479\n",
      "Epoch 11/100\n",
      "34/34 [==============================] - 0s 959us/step - loss: 3614.1064 - mean_absolute_error: 3614.1064\n",
      "Epoch 12/100\n",
      "34/34 [==============================] - 0s 914us/step - loss: 3611.5586 - mean_absolute_error: 3611.5586\n",
      "Epoch 13/100\n",
      "34/34 [==============================] - 0s 1ms/step - loss: 3611.9133 - mean_absolute_error: 3611.9133\n",
      "Epoch 14/100\n",
      "34/34 [==============================] - 0s 1ms/step - loss: 3612.0098 - mean_absolute_error: 3612.0098\n",
      "Epoch 15/100\n",
      "34/34 [==============================] - 0s 1ms/step - loss: 3607.3508 - mean_absolute_error: 3607.3508\n",
      "Epoch 16/100\n",
      "34/34 [==============================] - 0s 1ms/step - loss: 3604.3481 - mean_absolute_error: 3604.3481\n",
      "Epoch 17/100\n",
      "34/34 [==============================] - 0s 1ms/step - loss: 3602.1663 - mean_absolute_error: 3602.1663\n",
      "Epoch 18/100\n",
      "34/34 [==============================] - 0s 1ms/step - loss: 3600.4404 - mean_absolute_error: 3600.4404\n",
      "Epoch 19/100\n",
      "34/34 [==============================] - 0s 1ms/step - loss: 3598.9365 - mean_absolute_error: 3598.9365\n",
      "Epoch 20/100\n",
      "34/34 [==============================] - 0s 1ms/step - loss: 3596.3123 - mean_absolute_error: 3596.3123\n",
      "Epoch 21/100\n",
      "34/34 [==============================] - 0s 1ms/step - loss: 3594.3860 - mean_absolute_error: 3594.3860\n",
      "Epoch 22/100\n",
      "34/34 [==============================] - 0s 1ms/step - loss: 3594.4006 - mean_absolute_error: 3594.4006\n",
      "Epoch 23/100\n",
      "34/34 [==============================] - 0s 1ms/step - loss: 3591.4968 - mean_absolute_error: 3591.4968\n",
      "Epoch 24/100\n",
      "34/34 [==============================] - 0s 1ms/step - loss: 3587.8062 - mean_absolute_error: 3587.8062\n",
      "Epoch 25/100\n",
      "34/34 [==============================] - 0s 1ms/step - loss: 3587.2991 - mean_absolute_error: 3587.2991\n",
      "Epoch 26/100\n",
      "34/34 [==============================] - 0s 1ms/step - loss: 3585.4673 - mean_absolute_error: 3585.4673\n",
      "Epoch 27/100\n",
      "34/34 [==============================] - 0s 1ms/step - loss: 3580.9807 - mean_absolute_error: 3580.9807\n",
      "Epoch 28/100\n",
      "34/34 [==============================] - 0s 1ms/step - loss: 3579.6523 - mean_absolute_error: 3579.6523\n",
      "Epoch 29/100\n",
      "34/34 [==============================] - 0s 1ms/step - loss: 3576.9958 - mean_absolute_error: 3576.9956\n",
      "Epoch 30/100\n",
      "34/34 [==============================] - 0s 1ms/step - loss: 3578.3047 - mean_absolute_error: 3578.3047\n",
      "Epoch 31/100\n",
      "34/34 [==============================] - 0s 1ms/step - loss: 3574.4609 - mean_absolute_error: 3574.4609\n",
      "Epoch 32/100\n",
      "34/34 [==============================] - 0s 1ms/step - loss: 3571.5759 - mean_absolute_error: 3571.5759\n",
      "Epoch 33/100\n",
      "34/34 [==============================] - 0s 1ms/step - loss: 3571.3245 - mean_absolute_error: 3571.3245\n",
      "Epoch 34/100\n",
      "34/34 [==============================] - 0s 1ms/step - loss: 3566.7249 - mean_absolute_error: 3566.7249\n",
      "Epoch 35/100\n",
      "34/34 [==============================] - 0s 1ms/step - loss: 3565.0681 - mean_absolute_error: 3565.0681\n",
      "Epoch 36/100\n",
      "34/34 [==============================] - 0s 1ms/step - loss: 3563.4810 - mean_absolute_error: 3563.4810\n",
      "Epoch 37/100\n",
      "34/34 [==============================] - 0s 1ms/step - loss: 3562.2673 - mean_absolute_error: 3562.2673\n",
      "Epoch 38/100\n",
      "34/34 [==============================] - 0s 1ms/step - loss: 3559.3184 - mean_absolute_error: 3559.3184\n",
      "Epoch 39/100\n",
      "34/34 [==============================] - 0s 1ms/step - loss: 3557.9021 - mean_absolute_error: 3557.9021\n",
      "Epoch 40/100\n",
      "34/34 [==============================] - 0s 1ms/step - loss: 3558.5835 - mean_absolute_error: 3558.5835\n",
      "Epoch 41/100\n",
      "34/34 [==============================] - 0s 1ms/step - loss: 3555.7202 - mean_absolute_error: 3555.7202\n",
      "Epoch 42/100\n",
      "34/34 [==============================] - 0s 1ms/step - loss: 3557.9524 - mean_absolute_error: 3557.9524\n",
      "Epoch 43/100\n",
      "34/34 [==============================] - 0s 1ms/step - loss: 3552.8196 - mean_absolute_error: 3552.8196\n",
      "Epoch 44/100\n",
      "34/34 [==============================] - 0s 1ms/step - loss: 3550.8289 - mean_absolute_error: 3550.8289\n",
      "Epoch 45/100\n",
      "34/34 [==============================] - 0s 1ms/step - loss: 3548.8511 - mean_absolute_error: 3548.8511\n",
      "Epoch 46/100\n",
      "34/34 [==============================] - 0s 1ms/step - loss: 3550.1851 - mean_absolute_error: 3550.1851\n",
      "Epoch 47/100\n",
      "34/34 [==============================] - 0s 1ms/step - loss: 3548.3540 - mean_absolute_error: 3548.3540\n",
      "Epoch 48/100\n",
      "34/34 [==============================] - 0s 1ms/step - loss: 3545.3425 - mean_absolute_error: 3545.3425\n",
      "Epoch 49/100\n",
      "34/34 [==============================] - 0s 1ms/step - loss: 3544.8081 - mean_absolute_error: 3544.8081\n",
      "Epoch 50/100\n",
      "34/34 [==============================] - 0s 1ms/step - loss: 3541.8345 - mean_absolute_error: 3541.8345\n",
      "Epoch 51/100\n",
      "34/34 [==============================] - 0s 1ms/step - loss: 3544.4736 - mean_absolute_error: 3544.4736\n",
      "Epoch 52/100\n",
      "34/34 [==============================] - 0s 1ms/step - loss: 3542.0586 - mean_absolute_error: 3542.0586\n",
      "Epoch 53/100\n",
      "34/34 [==============================] - 0s 1ms/step - loss: 3537.7473 - mean_absolute_error: 3537.7473\n",
      "Epoch 54/100\n",
      "34/34 [==============================] - 0s 1ms/step - loss: 3540.8767 - mean_absolute_error: 3540.8767\n",
      "Epoch 55/100\n",
      "34/34 [==============================] - 0s 1ms/step - loss: 3538.3757 - mean_absolute_error: 3538.3757\n",
      "Epoch 56/100\n",
      "34/34 [==============================] - 0s 1ms/step - loss: 3532.6980 - mean_absolute_error: 3532.6980\n",
      "Epoch 57/100\n",
      "34/34 [==============================] - 0s 908us/step - loss: 3531.7976 - mean_absolute_error: 3531.7976\n",
      "Epoch 58/100\n",
      "34/34 [==============================] - 0s 1ms/step - loss: 3529.7915 - mean_absolute_error: 3529.7915\n",
      "Epoch 59/100\n",
      "34/34 [==============================] - 0s 1ms/step - loss: 3530.6350 - mean_absolute_error: 3530.6350\n",
      "Epoch 60/100\n",
      "34/34 [==============================] - 0s 1ms/step - loss: 3526.2690 - mean_absolute_error: 3526.2690\n",
      "Epoch 61/100\n",
      "34/34 [==============================] - 0s 1ms/step - loss: 3526.4619 - mean_absolute_error: 3526.4619\n",
      "Epoch 62/100\n",
      "34/34 [==============================] - 0s 1ms/step - loss: 3523.2136 - mean_absolute_error: 3523.2136\n",
      "Epoch 63/100\n",
      "34/34 [==============================] - 0s 1ms/step - loss: 3522.7583 - mean_absolute_error: 3522.7583\n",
      "Epoch 64/100\n",
      "34/34 [==============================] - 0s 1ms/step - loss: 3523.6775 - mean_absolute_error: 3523.6775\n",
      "Epoch 65/100\n",
      "34/34 [==============================] - 0s 992us/step - loss: 3521.8171 - mean_absolute_error: 3521.8171\n",
      "Epoch 66/100\n",
      "34/34 [==============================] - 0s 1ms/step - loss: 3519.4429 - mean_absolute_error: 3519.4429\n",
      "Epoch 67/100\n",
      "34/34 [==============================] - 0s 903us/step - loss: 3518.2505 - mean_absolute_error: 3518.2505\n",
      "Epoch 68/100\n",
      "34/34 [==============================] - 0s 1ms/step - loss: 3519.1541 - mean_absolute_error: 3519.1541\n",
      "Epoch 69/100\n",
      "34/34 [==============================] - 0s 861us/step - loss: 3515.5295 - mean_absolute_error: 3515.5295\n",
      "Epoch 70/100\n"
     ]
    },
    {
     "name": "stdout",
     "output_type": "stream",
     "text": [
      "34/34 [==============================] - 0s 968us/step - loss: 3515.2046 - mean_absolute_error: 3515.2046\n",
      "Epoch 71/100\n",
      "34/34 [==============================] - 0s 922us/step - loss: 3514.0823 - mean_absolute_error: 3514.0823\n",
      "Epoch 72/100\n",
      "34/34 [==============================] - 0s 984us/step - loss: 3511.2969 - mean_absolute_error: 3511.2969\n",
      "Epoch 73/100\n",
      "34/34 [==============================] - 0s 899us/step - loss: 3511.2498 - mean_absolute_error: 3511.2498\n",
      "Epoch 74/100\n",
      "34/34 [==============================] - 0s 866us/step - loss: 3508.1543 - mean_absolute_error: 3508.1543\n",
      "Epoch 75/100\n",
      "34/34 [==============================] - 0s 852us/step - loss: 3508.1377 - mean_absolute_error: 3508.1377\n",
      "Epoch 76/100\n",
      "34/34 [==============================] - 0s 811us/step - loss: 3508.3623 - mean_absolute_error: 3508.3623\n",
      "Epoch 77/100\n",
      "34/34 [==============================] - 0s 799us/step - loss: 3504.0920 - mean_absolute_error: 3504.0920\n",
      "Epoch 78/100\n",
      "34/34 [==============================] - 0s 866us/step - loss: 3503.0273 - mean_absolute_error: 3503.0273\n",
      "Epoch 79/100\n",
      "34/34 [==============================] - 0s 887us/step - loss: 3503.5635 - mean_absolute_error: 3503.5635\n",
      "Epoch 80/100\n",
      "34/34 [==============================] - 0s 893us/step - loss: 3501.5627 - mean_absolute_error: 3501.5627\n",
      "Epoch 81/100\n",
      "34/34 [==============================] - 0s 918us/step - loss: 3500.4375 - mean_absolute_error: 3500.4375\n",
      "Epoch 82/100\n",
      "34/34 [==============================] - 0s 835us/step - loss: 3499.9822 - mean_absolute_error: 3499.9822\n",
      "Epoch 83/100\n",
      "34/34 [==============================] - 0s 808us/step - loss: 3497.0396 - mean_absolute_error: 3497.0396\n",
      "Epoch 84/100\n",
      "34/34 [==============================] - 0s 836us/step - loss: 3495.2246 - mean_absolute_error: 3495.2246\n",
      "Epoch 85/100\n",
      "34/34 [==============================] - 0s 777us/step - loss: 3494.5967 - mean_absolute_error: 3494.5967\n",
      "Epoch 86/100\n",
      "34/34 [==============================] - 0s 820us/step - loss: 3492.2527 - mean_absolute_error: 3492.2527\n",
      "Epoch 87/100\n",
      "34/34 [==============================] - 0s 818us/step - loss: 3491.8135 - mean_absolute_error: 3491.8135\n",
      "Epoch 88/100\n",
      "34/34 [==============================] - 0s 772us/step - loss: 3489.8369 - mean_absolute_error: 3489.8369\n",
      "Epoch 89/100\n",
      "34/34 [==============================] - 0s 781us/step - loss: 3489.9023 - mean_absolute_error: 3489.9023\n",
      "Epoch 90/100\n",
      "34/34 [==============================] - 0s 821us/step - loss: 3486.9260 - mean_absolute_error: 3486.9260\n",
      "Epoch 91/100\n",
      "34/34 [==============================] - 0s 829us/step - loss: 3484.7927 - mean_absolute_error: 3484.7927\n",
      "Epoch 92/100\n",
      "34/34 [==============================] - 0s 760us/step - loss: 3485.3015 - mean_absolute_error: 3485.3015\n",
      "Epoch 93/100\n",
      "34/34 [==============================] - 0s 780us/step - loss: 3482.1401 - mean_absolute_error: 3482.1401\n",
      "Epoch 94/100\n",
      "34/34 [==============================] - 0s 803us/step - loss: 3481.0667 - mean_absolute_error: 3481.0667\n",
      "Epoch 95/100\n",
      "34/34 [==============================] - 0s 812us/step - loss: 3481.5718 - mean_absolute_error: 3481.5718\n",
      "Epoch 96/100\n",
      "34/34 [==============================] - 0s 773us/step - loss: 3480.8210 - mean_absolute_error: 3480.8210\n",
      "Epoch 97/100\n",
      "34/34 [==============================] - 0s 797us/step - loss: 3478.1824 - mean_absolute_error: 3478.1824\n",
      "Epoch 98/100\n",
      "34/34 [==============================] - 0s 822us/step - loss: 3476.4790 - mean_absolute_error: 3476.4790\n",
      "Epoch 99/100\n",
      "34/34 [==============================] - 0s 807us/step - loss: 3476.7595 - mean_absolute_error: 3476.7595\n",
      "Epoch 100/100\n",
      "34/34 [==============================] - 0s 810us/step - loss: 3476.2986 - mean_absolute_error: 3476.2986\n"
     ]
    }
   ],
   "source": [
    "history3 = model3.fit(X_train_normal, y_train, epochs=100)"
   ]
  },
  {
   "cell_type": "markdown",
   "id": "b7c93a60",
   "metadata": {},
   "source": [
    "## Loss = 3476"
   ]
  },
  {
   "cell_type": "code",
   "execution_count": null,
   "id": "d7def85c",
   "metadata": {},
   "outputs": [],
   "source": []
  }
 ],
 "metadata": {
  "kernelspec": {
   "display_name": "Python 3 (ipykernel)",
   "language": "python",
   "name": "python3"
  },
  "language_info": {
   "codemirror_mode": {
    "name": "ipython",
    "version": 3
   },
   "file_extension": ".py",
   "mimetype": "text/x-python",
   "name": "python",
   "nbconvert_exporter": "python",
   "pygments_lexer": "ipython3",
   "version": "3.9.7"
  }
 },
 "nbformat": 4,
 "nbformat_minor": 5
}
